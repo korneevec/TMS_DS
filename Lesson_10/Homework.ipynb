{
 "cells": [
  {
   "cell_type": "markdown",
   "metadata": {},
   "source": [
    "**Задание 1:**\n",
    "\n",
    "Создать базу, добавить в нее 4 таблицы с данными, и реализовать следующие действия:\n",
    "\n",
    "*   HAVING\n",
    "*   JOIN (LEFT, INNER)\n",
    "*   UNION\n",
    "*   подзапросы"
   ]
  },
  {
   "cell_type": "code",
   "execution_count": 436,
   "metadata": {},
   "outputs": [],
   "source": [
    "import sqlalchemy as db\n",
    "from sqlalchemy import text"
   ]
  },
  {
   "cell_type": "code",
   "execution_count": 437,
   "metadata": {},
   "outputs": [],
   "source": [
    "engine = db.create_engine('sqlite:///library.db')\n",
    "conn = engine.connect()\n",
    "metadata = db.MetaData()"
   ]
  },
  {
   "cell_type": "code",
   "execution_count": 438,
   "metadata": {},
   "outputs": [],
   "source": [
    "create_authors_table_query = \"\"\"\n",
    "CREATE TABLE authors (\n",
    "    id INTEGER PRIMARY KEY,\n",
    "    name TEXT NOT NULL\n",
    ")\n",
    "\"\"\""
   ]
  },
  {
   "cell_type": "code",
   "execution_count": 439,
   "metadata": {},
   "outputs": [],
   "source": [
    "create_books_table_query = \"\"\"\n",
    "CREATE TABLE books (\n",
    "    id INTEGER PRIMARY KEY,\n",
    "    title TEXT NOT NULL,\n",
    "    author_id INTEGER,\n",
    "    price REAL\n",
    ")\n",
    "\"\"\""
   ]
  },
  {
   "cell_type": "code",
   "execution_count": 440,
   "metadata": {},
   "outputs": [],
   "source": [
    "create_categories_table_query = \"\"\"\n",
    "CREATE TABLE categories (\n",
    "    id INTEGER PRIMARY KEY,\n",
    "    name TEXT NOT NULL\n",
    ")\n",
    "\"\"\""
   ]
  },
  {
   "cell_type": "code",
   "execution_count": 441,
   "metadata": {},
   "outputs": [],
   "source": [
    "create_book_categories_table_query = \"\"\"\n",
    "CREATE TABLE book_categories (\n",
    "    book_id INTEGER,\n",
    "    category_id INTEGER,\n",
    "    PRIMARY KEY (book_id, category_id),\n",
    "    FOREIGN KEY (book_id) REFERENCES books (id),\n",
    "    FOREIGN KEY (category_id) REFERENCES categories (id)\n",
    ")\n",
    "\"\"\""
   ]
  },
  {
   "cell_type": "markdown",
   "metadata": {},
   "source": [
    "В чем отличия conn.exec_driver_sql() и conn.execute(text()) ?"
   ]
  },
  {
   "cell_type": "code",
   "execution_count": 433,
   "metadata": {},
   "outputs": [
    {
     "data": {
      "text/plain": [
       "<sqlalchemy.engine.cursor.CursorResult at 0x239c7241d80>"
      ]
     },
     "execution_count": 433,
     "metadata": {},
     "output_type": "execute_result"
    }
   ],
   "source": [
    "conn.exec_driver_sql(create_authors_table_query)\n",
    "conn.exec_driver_sql(create_books_table_query)\n",
    "conn.exec_driver_sql(create_categories_table_query)\n",
    "conn.exec_driver_sql(create_book_categories_table_query)"
   ]
  },
  {
   "cell_type": "code",
   "execution_count": 442,
   "metadata": {},
   "outputs": [
    {
     "data": {
      "text/plain": [
       "<sqlalchemy.engine.cursor.CursorResult at 0x239c7453520>"
      ]
     },
     "execution_count": 442,
     "metadata": {},
     "output_type": "execute_result"
    }
   ],
   "source": [
    "conn.execute(text(create_authors_table_query))\n",
    "conn.execute(text(create_books_table_query))\n",
    "conn.execute(text(create_categories_table_query))\n",
    "conn.execute(text(create_book_categories_table_query))"
   ]
  },
  {
   "cell_type": "code",
   "execution_count": 443,
   "metadata": {},
   "outputs": [],
   "source": [
    "insert_authors_query = \"\"\"\n",
    "INSERT INTO authors (name) VALUES\n",
    "('Эдуард Успенский'),\n",
    "('Лев Толстой'),\n",
    "('Марк Твен'),\n",
    "('Фёдор Достоевский'),\n",
    "('Александр Пушкин');\n",
    "\"\"\""
   ]
  },
  {
   "cell_type": "code",
   "execution_count": 444,
   "metadata": {},
   "outputs": [],
   "source": [
    "insert_books_query = \"\"\"\n",
    "INSERT INTO books (title, author_id, price) VALUES\n",
    "('Чебурашка', 1, 15.0),\n",
    "('Война и мир', 2, 30.0),\n",
    "('Анна Каренина', 2, 25.0),\n",
    "('Евгений Онегин', 5, 20.0),\n",
    "('Преступление и наказание', 4, 22.0),\n",
    "('Бесы', 4, 24.0),\n",
    "('Приключения Тома Сойера', 3, 19.0);\n",
    "\"\"\""
   ]
  },
  {
   "cell_type": "code",
   "execution_count": 445,
   "metadata": {},
   "outputs": [],
   "source": [
    "insert_categories_query = \"\"\"\n",
    "INSERT INTO categories (name) VALUES\n",
    "('Детская литература'),\n",
    "('Классическая литература'),\n",
    "('Поэзия'),\n",
    "('Роман');\n",
    "\"\"\""
   ]
  },
  {
   "cell_type": "code",
   "execution_count": 446,
   "metadata": {},
   "outputs": [],
   "source": [
    "insert_book_categories_query = \"\"\"\n",
    "INSERT INTO book_categories (book_id, category_id) VALUES\n",
    "(1, 1),\n",
    "(2, 2),\n",
    "(3, 2),\n",
    "(4, 3),\n",
    "(5, 2),\n",
    "(6, 2),\n",
    "(7, null);\n",
    "\"\"\""
   ]
  },
  {
   "cell_type": "code",
   "execution_count": 447,
   "metadata": {},
   "outputs": [
    {
     "data": {
      "text/plain": [
       "<sqlalchemy.engine.cursor.CursorResult at 0x239c74534c0>"
      ]
     },
     "execution_count": 447,
     "metadata": {},
     "output_type": "execute_result"
    }
   ],
   "source": [
    "conn.execute(text(insert_authors_query))\n",
    "conn.execute(text(insert_books_query))\n",
    "conn.execute(text(insert_categories_query))\n",
    "conn.execute(text(insert_book_categories_query))"
   ]
  },
  {
   "cell_type": "code",
   "execution_count": 448,
   "metadata": {},
   "outputs": [],
   "source": [
    "# HAVING\n",
    "\n",
    "query_having = \"\"\"\n",
    "SELECT authors.name, COUNT(books.id) AS book_count\n",
    "FROM authors\n",
    "JOIN books\n",
    "ON authors.id = books.author_id\n",
    "GROUP BY authors.name\n",
    "HAVING COUNT(books.id) > 1\n",
    "\"\"\""
   ]
  },
  {
   "cell_type": "code",
   "execution_count": 449,
   "metadata": {},
   "outputs": [
    {
     "name": "stdout",
     "output_type": "stream",
     "text": [
      "HAVING:\n",
      "('Лев Толстой', 2)\n",
      "('Фёдор Достоевский', 2)\n"
     ]
    }
   ],
   "source": [
    "result = conn.execute(text(query_having))\n",
    "print(\"HAVING:\")\n",
    "for row in result:\n",
    "    print(row)"
   ]
  },
  {
   "cell_type": "code",
   "execution_count": 450,
   "metadata": {},
   "outputs": [],
   "source": [
    "# JOIN (INNER)\n",
    "\n",
    "query_inner_join = \"\"\"\n",
    "SELECT books.title, authors.name, categories.name\n",
    "FROM books\n",
    "INNER JOIN authors\n",
    "ON books.author_id = authors.id\n",
    "INNER JOIN book_categories\n",
    "ON books.id = book_categories.book_id\n",
    "INNER JOIN categories\n",
    "ON book_categories.category_id = categories.id\n",
    "\"\"\""
   ]
  },
  {
   "cell_type": "code",
   "execution_count": 451,
   "metadata": {},
   "outputs": [
    {
     "name": "stdout",
     "output_type": "stream",
     "text": [
      "INNER JOIN:\n",
      "('Чебурашка', 'Эдуард Успенский', 'Детская литература')\n",
      "('Война и мир', 'Лев Толстой', 'Классическая литература')\n",
      "('Анна Каренина', 'Лев Толстой', 'Классическая литература')\n",
      "('Евгений Онегин', 'Александр Пушкин', 'Поэзия')\n",
      "('Преступление и наказание', 'Фёдор Достоевский', 'Классическая литература')\n",
      "('Бесы', 'Фёдор Достоевский', 'Классическая литература')\n"
     ]
    }
   ],
   "source": [
    "result = conn.execute(text(query_inner_join))\n",
    "print(\"INNER JOIN:\")\n",
    "for row in result:\n",
    "    print(row)"
   ]
  },
  {
   "cell_type": "code",
   "execution_count": 452,
   "metadata": {},
   "outputs": [],
   "source": [
    "# JOIN (LEFT)\n",
    "\n",
    "query_left_join = \"\"\"\n",
    "SELECT books.title, authors.name, categories.name\n",
    "FROM books\n",
    "LEFT JOIN authors ON books.author_id = authors.id\n",
    "LEFT JOIN book_categories ON books.id = book_categories.book_id\n",
    "LEFT JOIN categories ON book_categories.category_id = categories.id\n",
    "\"\"\""
   ]
  },
  {
   "cell_type": "code",
   "execution_count": 453,
   "metadata": {},
   "outputs": [
    {
     "name": "stdout",
     "output_type": "stream",
     "text": [
      "LEFT JOIN:\n",
      "('Чебурашка', 'Эдуард Успенский', 'Детская литература')\n",
      "('Война и мир', 'Лев Толстой', 'Классическая литература')\n",
      "('Анна Каренина', 'Лев Толстой', 'Классическая литература')\n",
      "('Евгений Онегин', 'Александр Пушкин', 'Поэзия')\n",
      "('Преступление и наказание', 'Фёдор Достоевский', 'Классическая литература')\n",
      "('Бесы', 'Фёдор Достоевский', 'Классическая литература')\n",
      "('Приключения Тома Сойера', 'Марк Твен', None)\n"
     ]
    }
   ],
   "source": [
    "result = conn.execute(text(query_left_join))\n",
    "print(\"LEFT JOIN:\")\n",
    "for row in result:\n",
    "    print(row)"
   ]
  },
  {
   "cell_type": "code",
   "execution_count": 454,
   "metadata": {},
   "outputs": [],
   "source": [
    "# UNION\n",
    "\n",
    "query_union = \"\"\"\n",
    "SELECT title AS name \n",
    "FROM books\n",
    "UNION\n",
    "SELECT name FROM authors\n",
    "\"\"\""
   ]
  },
  {
   "cell_type": "code",
   "execution_count": 455,
   "metadata": {},
   "outputs": [
    {
     "name": "stdout",
     "output_type": "stream",
     "text": [
      "UNION:\n",
      "('Александр Пушкин',)\n",
      "('Анна Каренина',)\n",
      "('Бесы',)\n",
      "('Война и мир',)\n",
      "('Евгений Онегин',)\n",
      "('Лев Толстой',)\n",
      "('Марк Твен',)\n",
      "('Преступление и наказание',)\n",
      "('Приключения Тома Сойера',)\n",
      "('Фёдор Достоевский',)\n",
      "('Чебурашка',)\n",
      "('Эдуард Успенский',)\n"
     ]
    }
   ],
   "source": [
    "result = conn.execute(text(query_union))\n",
    "print(\"UNION:\")\n",
    "for row in result:\n",
    "    print(row)"
   ]
  },
  {
   "cell_type": "code",
   "execution_count": 456,
   "metadata": {},
   "outputs": [],
   "source": [
    "# Подзапрос\n",
    "\n",
    "query_subquery = \"\"\"\n",
    "SELECT title, (\n",
    "    SELECT name\n",
    "    FROM authors\n",
    "    WHERE authors.id = books.author_id\n",
    ") AS author_name\n",
    "FROM books\n",
    "\"\"\""
   ]
  },
  {
   "cell_type": "code",
   "execution_count": 457,
   "metadata": {},
   "outputs": [
    {
     "name": "stdout",
     "output_type": "stream",
     "text": [
      "Подзапрос:\n",
      "('Чебурашка', 'Эдуард Успенский')\n",
      "('Война и мир', 'Лев Толстой')\n",
      "('Анна Каренина', 'Лев Толстой')\n",
      "('Евгений Онегин', 'Александр Пушкин')\n",
      "('Преступление и наказание', 'Фёдор Достоевский')\n",
      "('Бесы', 'Фёдор Достоевский')\n",
      "('Приключения Тома Сойера', 'Марк Твен')\n"
     ]
    }
   ],
   "source": [
    "result = conn.execute(text(query_subquery))\n",
    "print(\"Подзапрос:\")\n",
    "for row in result:\n",
    "    print(row)"
   ]
  },
  {
   "cell_type": "code",
   "execution_count": 575,
   "metadata": {},
   "outputs": [],
   "source": [
    "conn.close()\n",
    "engine.dispose()"
   ]
  },
  {
   "cell_type": "code",
   "execution_count": 576,
   "metadata": {},
   "outputs": [],
   "source": [
    "import os\n",
    "os.remove(\"library.db\")"
   ]
  },
  {
   "cell_type": "code",
   "execution_count": 577,
   "metadata": {},
   "outputs": [],
   "source": [
    "engine = db.create_engine('sqlite:///library.db')\n",
    "conn = engine.connect()\n",
    "metadata = db.MetaData()"
   ]
  },
  {
   "cell_type": "code",
   "execution_count": 578,
   "metadata": {},
   "outputs": [],
   "source": [
    "authors = db.Table(\"authors\",metadata,\n",
    "                   db.Column(\"id\", db.INTEGER, primary_key=True),\n",
    "                   db.Column(\"name\", db.TEXT, nullable=False))"
   ]
  },
  {
   "cell_type": "code",
   "execution_count": 579,
   "metadata": {},
   "outputs": [],
   "source": [
    "books = db.Table(\"books\",metadata,\n",
    "                 db.Column(\"id\", db.INTEGER, primary_key=True),\n",
    "                 db.Column(\"title\", db.TEXT, nullable=False),\n",
    "                 db.Column(\"author_id\", db.INTEGER),\n",
    "                 db.Column(\"price\", db.REAL))"
   ]
  },
  {
   "cell_type": "code",
   "execution_count": 580,
   "metadata": {},
   "outputs": [],
   "source": [
    "categories = db.Table(\"categories\",metadata,\n",
    "                      db.Column(\"id\", db.INTEGER, primary_key=True),\n",
    "                      db.Column(\"name\", db.TEXT, nullable=False))"
   ]
  },
  {
   "cell_type": "code",
   "execution_count": 581,
   "metadata": {},
   "outputs": [],
   "source": [
    "book_categories = db.Table(\"book_categories\",metadata,\n",
    "                           db.Column(\"book_id\", db.INTEGER, db.ForeignKey(\"books.id\")),\n",
    "                           db.Column(\"category_id\", db.INTEGER, db.ForeignKey(\"categories.id\"), nullable=True),\n",
    "                           db.PrimaryKeyConstraint(\"book_id\", \"category_id\"))"
   ]
  },
  {
   "cell_type": "code",
   "execution_count": 582,
   "metadata": {},
   "outputs": [],
   "source": [
    "metadata.create_all(engine)"
   ]
  },
  {
   "cell_type": "code",
   "execution_count": 583,
   "metadata": {},
   "outputs": [],
   "source": [
    "insertions = []"
   ]
  },
  {
   "cell_type": "code",
   "execution_count": 584,
   "metadata": {},
   "outputs": [],
   "source": [
    "insertion = authors.insert().values([\n",
    "    {\"name\": \"Эдуард Успенский\"},\n",
    "    {\"name\": \"Лев Толстой\"},\n",
    "    {\"name\": \"Марк Твен\"},\n",
    "    {\"name\": \"Фёдор Достоевский\"},\n",
    "    {\"name\": \"Александр Пушкин\"}\n",
    "])\n",
    "insertions.append(insertion)"
   ]
  },
  {
   "cell_type": "code",
   "execution_count": 585,
   "metadata": {},
   "outputs": [],
   "source": [
    "insertion = books.insert().values([\n",
    "    {\"title\": \"Чебурашка\", \"author_id\": 1, \"price\": 15.0},\n",
    "    {\"title\": \"Война и мир\", \"author_id\": 2, \"price\": 30.0},\n",
    "    {\"title\": \"Анна Каренина\", \"author_id\": 2, \"price\": 25.0},\n",
    "    {\"title\": \"Евгений Онегин\", \"author_id\": 5, \"price\": 20.0},\n",
    "    {\"title\": \"Преступление и наказание\", \"author_id\": 4, \"price\": 22.0},\n",
    "    {\"title\": \"Бесы\", \"author_id\": 4, \"price\": 24.0},\n",
    "    {\"title\": \"Приключения Тома Сойера\", \"author_id\": 3, \"price\": 19.0}\n",
    "])\n",
    "insertions.append(insertion)"
   ]
  },
  {
   "cell_type": "code",
   "execution_count": 586,
   "metadata": {},
   "outputs": [],
   "source": [
    "insertion = categories.insert().values([\n",
    "    {\"name\": \"Детская литература\"},\n",
    "    {\"name\": \"Классическая литература\"},\n",
    "    {\"name\": \"Поэзия\"},\n",
    "    {\"name\": \"Роман\"}\n",
    "])\n",
    "insertions.append(insertion)"
   ]
  },
  {
   "cell_type": "code",
   "execution_count": 587,
   "metadata": {},
   "outputs": [],
   "source": [
    "insertion = book_categories.insert().values([\n",
    "    {\"book_id\": 1, \"category_id\": 1},\n",
    "    {\"book_id\": 2, \"category_id\": 2},\n",
    "    {\"book_id\": 3, \"category_id\": 2},\n",
    "    {\"book_id\": 4, \"category_id\": 3},\n",
    "    {\"book_id\": 5, \"category_id\": 2},\n",
    "    {\"book_id\": 6, \"category_id\": 2},\n",
    "    {\"book_id\": 7, \"category_id\": db.null()},\n",
    "])\n",
    "insertions.append(insertion)"
   ]
  },
  {
   "cell_type": "code",
   "execution_count": 588,
   "metadata": {},
   "outputs": [],
   "source": [
    "for insertion in insertions:\n",
    "    conn.execute(insertion)"
   ]
  },
  {
   "cell_type": "code",
   "execution_count": 589,
   "metadata": {},
   "outputs": [],
   "source": [
    "# HAVING\n",
    "\n",
    "having = db.select(authors.c.name,\n",
    "                   db.func.count(books.c.id).label('book_count'))\\\n",
    "            .select_from(authors.join(books, authors.c.id == books.c.author_id))\\\n",
    "            .group_by(authors.c.name)\\\n",
    "            .having(db.func.count(books.c.id) > 1)"
   ]
  },
  {
   "cell_type": "code",
   "execution_count": 590,
   "metadata": {},
   "outputs": [
    {
     "name": "stdout",
     "output_type": "stream",
     "text": [
      "HAVING:\n",
      "('Лев Толстой', 2)\n",
      "('Фёдор Достоевский', 2)\n"
     ]
    }
   ],
   "source": [
    "result = conn.execute(having)\n",
    "print(\"HAVING:\")\n",
    "for row in result:\n",
    "    print(row)"
   ]
  },
  {
   "cell_type": "code",
   "execution_count": 591,
   "metadata": {},
   "outputs": [],
   "source": [
    "# JOIN (INNER)\n",
    "\n",
    "inner_join = db.select(books.c.title,\n",
    "                       authors.c.name,\n",
    "                       categories.c.name)\\\n",
    "                .select_from(\n",
    "                    books.join(authors, books.c.author_id == authors.c.id)\\\n",
    "                        .join(book_categories, books.c.id == book_categories.c.book_id)\\\n",
    "                        .join(categories, book_categories.c.category_id == categories.c.id)\n",
    "                )"
   ]
  },
  {
   "cell_type": "code",
   "execution_count": 592,
   "metadata": {},
   "outputs": [
    {
     "name": "stdout",
     "output_type": "stream",
     "text": [
      "INNER JOIN:\n",
      "('Чебурашка', 'Эдуард Успенский', 'Детская литература')\n",
      "('Война и мир', 'Лев Толстой', 'Классическая литература')\n",
      "('Анна Каренина', 'Лев Толстой', 'Классическая литература')\n",
      "('Евгений Онегин', 'Александр Пушкин', 'Поэзия')\n",
      "('Преступление и наказание', 'Фёдор Достоевский', 'Классическая литература')\n",
      "('Бесы', 'Фёдор Достоевский', 'Классическая литература')\n"
     ]
    }
   ],
   "source": [
    "result = conn.execute(inner_join)\n",
    "print(\"INNER JOIN:\")\n",
    "for row in result:\n",
    "    print(row)"
   ]
  },
  {
   "cell_type": "code",
   "execution_count": 596,
   "metadata": {},
   "outputs": [],
   "source": [
    "# JOIN (LEFT)\n",
    "\n",
    "left_join = db.select(books.c.title,\n",
    "                      authors.c.name,\n",
    "                      categories.c.name)\\\n",
    "            .select_from(\n",
    "                books.outerjoin(authors, books.c.author_id == authors.c.id)\\\n",
    "                    .outerjoin(book_categories, books.c.id == book_categories.c.book_id)\\\n",
    "                    .outerjoin(categories, book_categories.c.category_id == categories.c.id)\n",
    "            )"
   ]
  },
  {
   "cell_type": "code",
   "execution_count": 597,
   "metadata": {},
   "outputs": [
    {
     "name": "stdout",
     "output_type": "stream",
     "text": [
      "LEFT JOIN:\n",
      "('Чебурашка', 'Эдуард Успенский', 'Детская литература')\n",
      "('Война и мир', 'Лев Толстой', 'Классическая литература')\n",
      "('Анна Каренина', 'Лев Толстой', 'Классическая литература')\n",
      "('Евгений Онегин', 'Александр Пушкин', 'Поэзия')\n",
      "('Преступление и наказание', 'Фёдор Достоевский', 'Классическая литература')\n",
      "('Бесы', 'Фёдор Достоевский', 'Классическая литература')\n",
      "('Приключения Тома Сойера', 'Марк Твен', None)\n"
     ]
    }
   ],
   "source": [
    "result = conn.execute(left_join)\n",
    "print(\"LEFT JOIN:\")\n",
    "for row in result:\n",
    "    print(row)"
   ]
  },
  {
   "cell_type": "code",
   "execution_count": 595,
   "metadata": {},
   "outputs": [
    {
     "ename": "ArgumentError",
     "evalue": "Column expression, FROM clause, or other columns clause element expected, got [<sqlalchemy.sql.elements.Label at 0x239c91f2110; name>]. Did you mean to say select(<sqlalchemy.sql.elements.Label at 0x239c91f2110; name>)?",
     "output_type": "error",
     "traceback": [
      "\u001b[1;31m---------------------------------------------------------------------------\u001b[0m",
      "\u001b[1;31mArgumentError\u001b[0m                             Traceback (most recent call last)",
      "Cell \u001b[1;32mIn[595], line 3\u001b[0m\n\u001b[0;32m      1\u001b[0m \u001b[38;5;66;03m# UNION\u001b[39;00m\n\u001b[1;32m----> 3\u001b[0m union \u001b[38;5;241m=\u001b[39m \u001b[43mdb\u001b[49m\u001b[38;5;241;43m.\u001b[39;49m\u001b[43mselect\u001b[49m\u001b[43m(\u001b[49m\u001b[43m[\u001b[49m\u001b[43mdb\u001b[49m\u001b[38;5;241;43m.\u001b[39;49m\u001b[43mcolumn\u001b[49m\u001b[43m(\u001b[49m\u001b[38;5;124;43m'\u001b[39;49m\u001b[38;5;124;43mtitle\u001b[39;49m\u001b[38;5;124;43m'\u001b[39;49m\u001b[43m)\u001b[49m\u001b[38;5;241;43m.\u001b[39;49m\u001b[43mlabel\u001b[49m\u001b[43m(\u001b[49m\u001b[38;5;124;43m'\u001b[39;49m\u001b[38;5;124;43mname\u001b[39;49m\u001b[38;5;124;43m'\u001b[39;49m\u001b[43m)\u001b[49m\u001b[43m]\u001b[49m\u001b[43m)\u001b[49m\u001b[38;5;241m.\u001b[39mselect_from(books)\\\n\u001b[0;32m      4\u001b[0m            \u001b[38;5;241m.\u001b[39munion(db\u001b[38;5;241m.\u001b[39mselect([db\u001b[38;5;241m.\u001b[39mcolumn(\u001b[38;5;124m'\u001b[39m\u001b[38;5;124mname\u001b[39m\u001b[38;5;124m'\u001b[39m)])\u001b[38;5;241m.\u001b[39mselect_from(authors))\n",
      "File \u001b[1;32mc:\\Users\\user\\AppData\\Local\\Programs\\Python\\Python310\\lib\\site-packages\\sqlalchemy\\sql\\_selectable_constructors.py:482\u001b[0m, in \u001b[0;36mselect\u001b[1;34m(*entities, **__kw)\u001b[0m\n\u001b[0;32m    480\u001b[0m \u001b[38;5;28;01mif\u001b[39;00m __kw:\n\u001b[0;32m    481\u001b[0m     \u001b[38;5;28;01mraise\u001b[39;00m _no_kw()\n\u001b[1;32m--> 482\u001b[0m \u001b[38;5;28;01mreturn\u001b[39;00m \u001b[43mSelect\u001b[49m\u001b[43m(\u001b[49m\u001b[38;5;241;43m*\u001b[39;49m\u001b[43mentities\u001b[49m\u001b[43m)\u001b[49m\n",
      "File \u001b[1;32mc:\\Users\\user\\AppData\\Local\\Programs\\Python\\Python310\\lib\\site-packages\\sqlalchemy\\sql\\selectable.py:5148\u001b[0m, in \u001b[0;36mSelect.__init__\u001b[1;34m(self, *entities)\u001b[0m\n\u001b[0;32m   5141\u001b[0m \u001b[38;5;28;01mdef\u001b[39;00m \u001b[38;5;21m__init__\u001b[39m(\u001b[38;5;28mself\u001b[39m, \u001b[38;5;241m*\u001b[39mentities: _ColumnsClauseArgument[Any]):\n\u001b[0;32m   5142\u001b[0m \u001b[38;5;250m    \u001b[39m\u001b[38;5;124mr\u001b[39m\u001b[38;5;124;03m\"\"\"Construct a new :class:`_expression.Select`.\u001b[39;00m\n\u001b[0;32m   5143\u001b[0m \n\u001b[0;32m   5144\u001b[0m \u001b[38;5;124;03m    The public constructor for :class:`_expression.Select` is the\u001b[39;00m\n\u001b[0;32m   5145\u001b[0m \u001b[38;5;124;03m    :func:`_sql.select` function.\u001b[39;00m\n\u001b[0;32m   5146\u001b[0m \n\u001b[0;32m   5147\u001b[0m \u001b[38;5;124;03m    \"\"\"\u001b[39;00m\n\u001b[1;32m-> 5148\u001b[0m     \u001b[38;5;28mself\u001b[39m\u001b[38;5;241m.\u001b[39m_raw_columns \u001b[38;5;241m=\u001b[39m [\n\u001b[0;32m   5149\u001b[0m         coercions\u001b[38;5;241m.\u001b[39mexpect(\n\u001b[0;32m   5150\u001b[0m             roles\u001b[38;5;241m.\u001b[39mColumnsClauseRole, ent, apply_propagate_attrs\u001b[38;5;241m=\u001b[39m\u001b[38;5;28mself\u001b[39m\n\u001b[0;32m   5151\u001b[0m         )\n\u001b[0;32m   5152\u001b[0m         \u001b[38;5;28;01mfor\u001b[39;00m ent \u001b[38;5;129;01min\u001b[39;00m entities\n\u001b[0;32m   5153\u001b[0m     ]\n\u001b[0;32m   5155\u001b[0m     GenerativeSelect\u001b[38;5;241m.\u001b[39m\u001b[38;5;21m__init__\u001b[39m(\u001b[38;5;28mself\u001b[39m)\n",
      "File \u001b[1;32mc:\\Users\\user\\AppData\\Local\\Programs\\Python\\Python310\\lib\\site-packages\\sqlalchemy\\sql\\selectable.py:5149\u001b[0m, in \u001b[0;36m<listcomp>\u001b[1;34m(.0)\u001b[0m\n\u001b[0;32m   5141\u001b[0m \u001b[38;5;28;01mdef\u001b[39;00m \u001b[38;5;21m__init__\u001b[39m(\u001b[38;5;28mself\u001b[39m, \u001b[38;5;241m*\u001b[39mentities: _ColumnsClauseArgument[Any]):\n\u001b[0;32m   5142\u001b[0m \u001b[38;5;250m    \u001b[39m\u001b[38;5;124mr\u001b[39m\u001b[38;5;124;03m\"\"\"Construct a new :class:`_expression.Select`.\u001b[39;00m\n\u001b[0;32m   5143\u001b[0m \n\u001b[0;32m   5144\u001b[0m \u001b[38;5;124;03m    The public constructor for :class:`_expression.Select` is the\u001b[39;00m\n\u001b[0;32m   5145\u001b[0m \u001b[38;5;124;03m    :func:`_sql.select` function.\u001b[39;00m\n\u001b[0;32m   5146\u001b[0m \n\u001b[0;32m   5147\u001b[0m \u001b[38;5;124;03m    \"\"\"\u001b[39;00m\n\u001b[0;32m   5148\u001b[0m     \u001b[38;5;28mself\u001b[39m\u001b[38;5;241m.\u001b[39m_raw_columns \u001b[38;5;241m=\u001b[39m [\n\u001b[1;32m-> 5149\u001b[0m         \u001b[43mcoercions\u001b[49m\u001b[38;5;241;43m.\u001b[39;49m\u001b[43mexpect\u001b[49m\u001b[43m(\u001b[49m\n\u001b[0;32m   5150\u001b[0m \u001b[43m            \u001b[49m\u001b[43mroles\u001b[49m\u001b[38;5;241;43m.\u001b[39;49m\u001b[43mColumnsClauseRole\u001b[49m\u001b[43m,\u001b[49m\u001b[43m \u001b[49m\u001b[43ment\u001b[49m\u001b[43m,\u001b[49m\u001b[43m \u001b[49m\u001b[43mapply_propagate_attrs\u001b[49m\u001b[38;5;241;43m=\u001b[39;49m\u001b[38;5;28;43mself\u001b[39;49m\n\u001b[0;32m   5151\u001b[0m \u001b[43m        \u001b[49m\u001b[43m)\u001b[49m\n\u001b[0;32m   5152\u001b[0m         \u001b[38;5;28;01mfor\u001b[39;00m ent \u001b[38;5;129;01min\u001b[39;00m entities\n\u001b[0;32m   5153\u001b[0m     ]\n\u001b[0;32m   5155\u001b[0m     GenerativeSelect\u001b[38;5;241m.\u001b[39m\u001b[38;5;21m__init__\u001b[39m(\u001b[38;5;28mself\u001b[39m)\n",
      "File \u001b[1;32mc:\\Users\\user\\AppData\\Local\\Programs\\Python\\Python310\\lib\\site-packages\\sqlalchemy\\sql\\coercions.py:396\u001b[0m, in \u001b[0;36mexpect\u001b[1;34m(role, element, apply_propagate_attrs, argname, post_inspect, disable_inspection, **kw)\u001b[0m\n\u001b[0;32m    393\u001b[0m                 impl\u001b[38;5;241m.\u001b[39m_raise_for_expected(original_element, argname)\n\u001b[0;32m    395\u001b[0m     \u001b[38;5;28;01mif\u001b[39;00m resolved \u001b[38;5;129;01mis\u001b[39;00m \u001b[38;5;28;01mNone\u001b[39;00m:\n\u001b[1;32m--> 396\u001b[0m         resolved \u001b[38;5;241m=\u001b[39m impl\u001b[38;5;241m.\u001b[39m_literal_coercion(\n\u001b[0;32m    397\u001b[0m             element, argname\u001b[38;5;241m=\u001b[39margname, \u001b[38;5;241m*\u001b[39m\u001b[38;5;241m*\u001b[39mkw\n\u001b[0;32m    398\u001b[0m         )\n\u001b[0;32m    399\u001b[0m \u001b[38;5;28;01melse\u001b[39;00m:\n\u001b[0;32m    400\u001b[0m     resolved \u001b[38;5;241m=\u001b[39m element\n",
      "File \u001b[1;32mc:\\Users\\user\\AppData\\Local\\Programs\\Python\\Python310\\lib\\site-packages\\sqlalchemy\\sql\\coercions.py:634\u001b[0m, in \u001b[0;36m_CoerceLiterals._literal_coercion\u001b[1;34m(self, element, argname, **kw)\u001b[0m\n\u001b[0;32m    631\u001b[0m \u001b[38;5;28;01mif\u001b[39;00m \u001b[38;5;28mself\u001b[39m\u001b[38;5;241m.\u001b[39m_coerce_numerics \u001b[38;5;129;01mand\u001b[39;00m \u001b[38;5;28misinstance\u001b[39m(element, (numbers\u001b[38;5;241m.\u001b[39mNumber)):\n\u001b[0;32m    632\u001b[0m     \u001b[38;5;28;01mreturn\u001b[39;00m elements\u001b[38;5;241m.\u001b[39mColumnClause(\u001b[38;5;28mstr\u001b[39m(element), is_literal\u001b[38;5;241m=\u001b[39m\u001b[38;5;28;01mTrue\u001b[39;00m)\n\u001b[1;32m--> 634\u001b[0m \u001b[38;5;28;43mself\u001b[39;49m\u001b[38;5;241;43m.\u001b[39;49m\u001b[43m_raise_for_expected\u001b[49m\u001b[43m(\u001b[49m\u001b[43melement\u001b[49m\u001b[43m,\u001b[49m\u001b[43m \u001b[49m\u001b[43margname\u001b[49m\u001b[43m)\u001b[49m\n",
      "File \u001b[1;32mc:\\Users\\user\\AppData\\Local\\Programs\\Python\\Python310\\lib\\site-packages\\sqlalchemy\\sql\\coercions.py:1122\u001b[0m, in \u001b[0;36mColumnsClauseImpl._raise_for_expected\u001b[1;34m(self, element, argname, resolved, advice, **kw)\u001b[0m\n\u001b[0;32m   1116\u001b[0m \u001b[38;5;28;01mif\u001b[39;00m \u001b[38;5;129;01mnot\u001b[39;00m advice \u001b[38;5;129;01mand\u001b[39;00m \u001b[38;5;28misinstance\u001b[39m(element, \u001b[38;5;28mlist\u001b[39m):\n\u001b[0;32m   1117\u001b[0m     advice \u001b[38;5;241m=\u001b[39m (\n\u001b[0;32m   1118\u001b[0m         \u001b[38;5;124mf\u001b[39m\u001b[38;5;124m\"\u001b[39m\u001b[38;5;124mDid you mean to say select(\u001b[39m\u001b[38;5;124m\"\u001b[39m\n\u001b[0;32m   1119\u001b[0m         \u001b[38;5;124mf\u001b[39m\u001b[38;5;124m\"\u001b[39m\u001b[38;5;132;01m{\u001b[39;00m\u001b[38;5;124m'\u001b[39m\u001b[38;5;124m, \u001b[39m\u001b[38;5;124m'\u001b[39m\u001b[38;5;241m.\u001b[39mjoin(\u001b[38;5;28mrepr\u001b[39m(e)\u001b[38;5;250m \u001b[39m\u001b[38;5;28;01mfor\u001b[39;00m\u001b[38;5;250m \u001b[39me\u001b[38;5;250m \u001b[39m\u001b[38;5;129;01min\u001b[39;00m\u001b[38;5;250m \u001b[39melement)\u001b[38;5;132;01m}\u001b[39;00m\u001b[38;5;124m)?\u001b[39m\u001b[38;5;124m\"\u001b[39m\n\u001b[0;32m   1120\u001b[0m     )\n\u001b[1;32m-> 1122\u001b[0m \u001b[38;5;28;01mreturn\u001b[39;00m \u001b[38;5;28msuper\u001b[39m()\u001b[38;5;241m.\u001b[39m_raise_for_expected(\n\u001b[0;32m   1123\u001b[0m     element, argname\u001b[38;5;241m=\u001b[39margname, resolved\u001b[38;5;241m=\u001b[39mresolved, advice\u001b[38;5;241m=\u001b[39madvice, \u001b[38;5;241m*\u001b[39m\u001b[38;5;241m*\u001b[39mkw\n\u001b[0;32m   1124\u001b[0m )\n",
      "File \u001b[1;32mc:\\Users\\user\\AppData\\Local\\Programs\\Python\\Python310\\lib\\site-packages\\sqlalchemy\\sql\\coercions.py:693\u001b[0m, in \u001b[0;36m_SelectIsNotFrom._raise_for_expected\u001b[1;34m(self, element, argname, resolved, advice, code, err, **kw)\u001b[0m\n\u001b[0;32m    690\u001b[0m \u001b[38;5;28;01melse\u001b[39;00m:\n\u001b[0;32m    691\u001b[0m     code \u001b[38;5;241m=\u001b[39m \u001b[38;5;28;01mNone\u001b[39;00m\n\u001b[1;32m--> 693\u001b[0m \u001b[38;5;28msuper\u001b[39m()\u001b[38;5;241m.\u001b[39m_raise_for_expected(\n\u001b[0;32m    694\u001b[0m     element,\n\u001b[0;32m    695\u001b[0m     argname\u001b[38;5;241m=\u001b[39margname,\n\u001b[0;32m    696\u001b[0m     resolved\u001b[38;5;241m=\u001b[39mresolved,\n\u001b[0;32m    697\u001b[0m     advice\u001b[38;5;241m=\u001b[39madvice,\n\u001b[0;32m    698\u001b[0m     code\u001b[38;5;241m=\u001b[39mcode,\n\u001b[0;32m    699\u001b[0m     err\u001b[38;5;241m=\u001b[39merr,\n\u001b[0;32m    700\u001b[0m     \u001b[38;5;241m*\u001b[39m\u001b[38;5;241m*\u001b[39mkw,\n\u001b[0;32m    701\u001b[0m )\n\u001b[0;32m    702\u001b[0m \u001b[38;5;66;03m# never reached\u001b[39;00m\n\u001b[0;32m    703\u001b[0m \u001b[38;5;28;01massert\u001b[39;00m \u001b[38;5;28;01mFalse\u001b[39;00m\n",
      "File \u001b[1;32mc:\\Users\\user\\AppData\\Local\\Programs\\Python\\Python310\\lib\\site-packages\\sqlalchemy\\sql\\coercions.py:518\u001b[0m, in \u001b[0;36mRoleImpl._raise_for_expected\u001b[1;34m(self, element, argname, resolved, advice, code, err, **kw)\u001b[0m\n\u001b[0;32m    515\u001b[0m \u001b[38;5;28;01mif\u001b[39;00m advice:\n\u001b[0;32m    516\u001b[0m     msg \u001b[38;5;241m+\u001b[39m\u001b[38;5;241m=\u001b[39m \u001b[38;5;124m\"\u001b[39m\u001b[38;5;124m \u001b[39m\u001b[38;5;124m\"\u001b[39m \u001b[38;5;241m+\u001b[39m advice\n\u001b[1;32m--> 518\u001b[0m \u001b[38;5;28;01mraise\u001b[39;00m exc\u001b[38;5;241m.\u001b[39mArgumentError(msg, code\u001b[38;5;241m=\u001b[39mcode) \u001b[38;5;28;01mfrom\u001b[39;00m \u001b[38;5;21;01merr\u001b[39;00m\n",
      "\u001b[1;31mArgumentError\u001b[0m: Column expression, FROM clause, or other columns clause element expected, got [<sqlalchemy.sql.elements.Label at 0x239c91f2110; name>]. Did you mean to say select(<sqlalchemy.sql.elements.Label at 0x239c91f2110; name>)?"
     ]
    }
   ],
   "source": [
    "# UNION\n",
    "\n",
    "union = db.select([db.column('title').label('name')]).select_from(books)\\\n",
    "           .union(db.select([db.column('name')]).select_from(authors))"
   ]
  },
  {
   "cell_type": "code",
   "execution_count": 263,
   "metadata": {},
   "outputs": [
    {
     "ename": "NameError",
     "evalue": "name 'union' is not defined",
     "output_type": "error",
     "traceback": [
      "\u001b[1;31m---------------------------------------------------------------------------\u001b[0m",
      "\u001b[1;31mNameError\u001b[0m                                 Traceback (most recent call last)",
      "Cell \u001b[1;32mIn[263], line 1\u001b[0m\n\u001b[1;32m----> 1\u001b[0m result \u001b[38;5;241m=\u001b[39m conn\u001b[38;5;241m.\u001b[39mexecute(\u001b[43munion\u001b[49m)\n\u001b[0;32m      2\u001b[0m \u001b[38;5;28mprint\u001b[39m(\u001b[38;5;124m\"\u001b[39m\u001b[38;5;124mUNION:\u001b[39m\u001b[38;5;124m\"\u001b[39m)\n\u001b[0;32m      3\u001b[0m \u001b[38;5;28;01mfor\u001b[39;00m row \u001b[38;5;129;01min\u001b[39;00m result:\n",
      "\u001b[1;31mNameError\u001b[0m: name 'union' is not defined"
     ]
    }
   ],
   "source": [
    "result = conn.execute(union)\n",
    "print(\"UNION:\")\n",
    "for row in result:\n",
    "    print(row)"
   ]
  },
  {
   "cell_type": "code",
   "execution_count": 268,
   "metadata": {},
   "outputs": [
    {
     "ename": "ArgumentError",
     "evalue": "Column expression, FROM clause, or other columns clause element expected, got [<sqlalchemy.sql.elements.ColumnClause at 0x239c7336860; name>]. Did you mean to say select(<sqlalchemy.sql.elements.ColumnClause at 0x239c7336860; name>)?",
     "output_type": "error",
     "traceback": [
      "\u001b[1;31m---------------------------------------------------------------------------\u001b[0m",
      "\u001b[1;31mArgumentError\u001b[0m                             Traceback (most recent call last)",
      "Cell \u001b[1;32mIn[268], line 4\u001b[0m\n\u001b[0;32m      1\u001b[0m \u001b[38;5;66;03m# Подзапрос\u001b[39;00m\n\u001b[0;32m      3\u001b[0m sub_query \u001b[38;5;241m=\u001b[39m db\u001b[38;5;241m.\u001b[39mselect([books\u001b[38;5;241m.\u001b[39mc\u001b[38;5;241m.\u001b[39mtitle, \n\u001b[1;32m----> 4\u001b[0m                        \u001b[43mdb\u001b[49m\u001b[38;5;241;43m.\u001b[39;49m\u001b[43mselect\u001b[49m\u001b[43m(\u001b[49m\u001b[43m[\u001b[49m\u001b[43mdb\u001b[49m\u001b[38;5;241;43m.\u001b[39;49m\u001b[43mcolumn\u001b[49m\u001b[43m(\u001b[49m\u001b[38;5;124;43m'\u001b[39;49m\u001b[38;5;124;43mname\u001b[39;49m\u001b[38;5;124;43m'\u001b[39;49m\u001b[43m)\u001b[49m\u001b[43m]\u001b[49m\u001b[43m)\u001b[49m\n\u001b[0;32m      5\u001b[0m                            \u001b[38;5;241m.\u001b[39mwhere(authors\u001b[38;5;241m.\u001b[39mc\u001b[38;5;241m.\u001b[39mid \u001b[38;5;241m==\u001b[39m books\u001b[38;5;241m.\u001b[39mc\u001b[38;5;241m.\u001b[39mauthor_id)\n\u001b[0;32m      6\u001b[0m                            \u001b[38;5;241m.\u001b[39mscalar_subquery()\n\u001b[0;32m      7\u001b[0m                            \u001b[38;5;241m.\u001b[39mlabel(\u001b[38;5;124m\"\u001b[39m\u001b[38;5;124mauthor_name\u001b[39m\u001b[38;5;124m\"\u001b[39m)])\n",
      "File \u001b[1;32mc:\\Users\\user\\AppData\\Local\\Programs\\Python\\Python310\\lib\\site-packages\\sqlalchemy\\sql\\_selectable_constructors.py:482\u001b[0m, in \u001b[0;36mselect\u001b[1;34m(*entities, **__kw)\u001b[0m\n\u001b[0;32m    480\u001b[0m \u001b[38;5;28;01mif\u001b[39;00m __kw:\n\u001b[0;32m    481\u001b[0m     \u001b[38;5;28;01mraise\u001b[39;00m _no_kw()\n\u001b[1;32m--> 482\u001b[0m \u001b[38;5;28;01mreturn\u001b[39;00m \u001b[43mSelect\u001b[49m\u001b[43m(\u001b[49m\u001b[38;5;241;43m*\u001b[39;49m\u001b[43mentities\u001b[49m\u001b[43m)\u001b[49m\n",
      "File \u001b[1;32mc:\\Users\\user\\AppData\\Local\\Programs\\Python\\Python310\\lib\\site-packages\\sqlalchemy\\sql\\selectable.py:5148\u001b[0m, in \u001b[0;36mSelect.__init__\u001b[1;34m(self, *entities)\u001b[0m\n\u001b[0;32m   5141\u001b[0m \u001b[38;5;28;01mdef\u001b[39;00m \u001b[38;5;21m__init__\u001b[39m(\u001b[38;5;28mself\u001b[39m, \u001b[38;5;241m*\u001b[39mentities: _ColumnsClauseArgument[Any]):\n\u001b[0;32m   5142\u001b[0m \u001b[38;5;250m    \u001b[39m\u001b[38;5;124mr\u001b[39m\u001b[38;5;124;03m\"\"\"Construct a new :class:`_expression.Select`.\u001b[39;00m\n\u001b[0;32m   5143\u001b[0m \n\u001b[0;32m   5144\u001b[0m \u001b[38;5;124;03m    The public constructor for :class:`_expression.Select` is the\u001b[39;00m\n\u001b[0;32m   5145\u001b[0m \u001b[38;5;124;03m    :func:`_sql.select` function.\u001b[39;00m\n\u001b[0;32m   5146\u001b[0m \n\u001b[0;32m   5147\u001b[0m \u001b[38;5;124;03m    \"\"\"\u001b[39;00m\n\u001b[1;32m-> 5148\u001b[0m     \u001b[38;5;28mself\u001b[39m\u001b[38;5;241m.\u001b[39m_raw_columns \u001b[38;5;241m=\u001b[39m [\n\u001b[0;32m   5149\u001b[0m         coercions\u001b[38;5;241m.\u001b[39mexpect(\n\u001b[0;32m   5150\u001b[0m             roles\u001b[38;5;241m.\u001b[39mColumnsClauseRole, ent, apply_propagate_attrs\u001b[38;5;241m=\u001b[39m\u001b[38;5;28mself\u001b[39m\n\u001b[0;32m   5151\u001b[0m         )\n\u001b[0;32m   5152\u001b[0m         \u001b[38;5;28;01mfor\u001b[39;00m ent \u001b[38;5;129;01min\u001b[39;00m entities\n\u001b[0;32m   5153\u001b[0m     ]\n\u001b[0;32m   5155\u001b[0m     GenerativeSelect\u001b[38;5;241m.\u001b[39m\u001b[38;5;21m__init__\u001b[39m(\u001b[38;5;28mself\u001b[39m)\n",
      "File \u001b[1;32mc:\\Users\\user\\AppData\\Local\\Programs\\Python\\Python310\\lib\\site-packages\\sqlalchemy\\sql\\selectable.py:5149\u001b[0m, in \u001b[0;36m<listcomp>\u001b[1;34m(.0)\u001b[0m\n\u001b[0;32m   5141\u001b[0m \u001b[38;5;28;01mdef\u001b[39;00m \u001b[38;5;21m__init__\u001b[39m(\u001b[38;5;28mself\u001b[39m, \u001b[38;5;241m*\u001b[39mentities: _ColumnsClauseArgument[Any]):\n\u001b[0;32m   5142\u001b[0m \u001b[38;5;250m    \u001b[39m\u001b[38;5;124mr\u001b[39m\u001b[38;5;124;03m\"\"\"Construct a new :class:`_expression.Select`.\u001b[39;00m\n\u001b[0;32m   5143\u001b[0m \n\u001b[0;32m   5144\u001b[0m \u001b[38;5;124;03m    The public constructor for :class:`_expression.Select` is the\u001b[39;00m\n\u001b[0;32m   5145\u001b[0m \u001b[38;5;124;03m    :func:`_sql.select` function.\u001b[39;00m\n\u001b[0;32m   5146\u001b[0m \n\u001b[0;32m   5147\u001b[0m \u001b[38;5;124;03m    \"\"\"\u001b[39;00m\n\u001b[0;32m   5148\u001b[0m     \u001b[38;5;28mself\u001b[39m\u001b[38;5;241m.\u001b[39m_raw_columns \u001b[38;5;241m=\u001b[39m [\n\u001b[1;32m-> 5149\u001b[0m         \u001b[43mcoercions\u001b[49m\u001b[38;5;241;43m.\u001b[39;49m\u001b[43mexpect\u001b[49m\u001b[43m(\u001b[49m\n\u001b[0;32m   5150\u001b[0m \u001b[43m            \u001b[49m\u001b[43mroles\u001b[49m\u001b[38;5;241;43m.\u001b[39;49m\u001b[43mColumnsClauseRole\u001b[49m\u001b[43m,\u001b[49m\u001b[43m \u001b[49m\u001b[43ment\u001b[49m\u001b[43m,\u001b[49m\u001b[43m \u001b[49m\u001b[43mapply_propagate_attrs\u001b[49m\u001b[38;5;241;43m=\u001b[39;49m\u001b[38;5;28;43mself\u001b[39;49m\n\u001b[0;32m   5151\u001b[0m \u001b[43m        \u001b[49m\u001b[43m)\u001b[49m\n\u001b[0;32m   5152\u001b[0m         \u001b[38;5;28;01mfor\u001b[39;00m ent \u001b[38;5;129;01min\u001b[39;00m entities\n\u001b[0;32m   5153\u001b[0m     ]\n\u001b[0;32m   5155\u001b[0m     GenerativeSelect\u001b[38;5;241m.\u001b[39m\u001b[38;5;21m__init__\u001b[39m(\u001b[38;5;28mself\u001b[39m)\n",
      "File \u001b[1;32mc:\\Users\\user\\AppData\\Local\\Programs\\Python\\Python310\\lib\\site-packages\\sqlalchemy\\sql\\coercions.py:396\u001b[0m, in \u001b[0;36mexpect\u001b[1;34m(role, element, apply_propagate_attrs, argname, post_inspect, disable_inspection, **kw)\u001b[0m\n\u001b[0;32m    393\u001b[0m                 impl\u001b[38;5;241m.\u001b[39m_raise_for_expected(original_element, argname)\n\u001b[0;32m    395\u001b[0m     \u001b[38;5;28;01mif\u001b[39;00m resolved \u001b[38;5;129;01mis\u001b[39;00m \u001b[38;5;28;01mNone\u001b[39;00m:\n\u001b[1;32m--> 396\u001b[0m         resolved \u001b[38;5;241m=\u001b[39m impl\u001b[38;5;241m.\u001b[39m_literal_coercion(\n\u001b[0;32m    397\u001b[0m             element, argname\u001b[38;5;241m=\u001b[39margname, \u001b[38;5;241m*\u001b[39m\u001b[38;5;241m*\u001b[39mkw\n\u001b[0;32m    398\u001b[0m         )\n\u001b[0;32m    399\u001b[0m \u001b[38;5;28;01melse\u001b[39;00m:\n\u001b[0;32m    400\u001b[0m     resolved \u001b[38;5;241m=\u001b[39m element\n",
      "File \u001b[1;32mc:\\Users\\user\\AppData\\Local\\Programs\\Python\\Python310\\lib\\site-packages\\sqlalchemy\\sql\\coercions.py:634\u001b[0m, in \u001b[0;36m_CoerceLiterals._literal_coercion\u001b[1;34m(self, element, argname, **kw)\u001b[0m\n\u001b[0;32m    631\u001b[0m \u001b[38;5;28;01mif\u001b[39;00m \u001b[38;5;28mself\u001b[39m\u001b[38;5;241m.\u001b[39m_coerce_numerics \u001b[38;5;129;01mand\u001b[39;00m \u001b[38;5;28misinstance\u001b[39m(element, (numbers\u001b[38;5;241m.\u001b[39mNumber)):\n\u001b[0;32m    632\u001b[0m     \u001b[38;5;28;01mreturn\u001b[39;00m elements\u001b[38;5;241m.\u001b[39mColumnClause(\u001b[38;5;28mstr\u001b[39m(element), is_literal\u001b[38;5;241m=\u001b[39m\u001b[38;5;28;01mTrue\u001b[39;00m)\n\u001b[1;32m--> 634\u001b[0m \u001b[38;5;28;43mself\u001b[39;49m\u001b[38;5;241;43m.\u001b[39;49m\u001b[43m_raise_for_expected\u001b[49m\u001b[43m(\u001b[49m\u001b[43melement\u001b[49m\u001b[43m,\u001b[49m\u001b[43m \u001b[49m\u001b[43margname\u001b[49m\u001b[43m)\u001b[49m\n",
      "File \u001b[1;32mc:\\Users\\user\\AppData\\Local\\Programs\\Python\\Python310\\lib\\site-packages\\sqlalchemy\\sql\\coercions.py:1122\u001b[0m, in \u001b[0;36mColumnsClauseImpl._raise_for_expected\u001b[1;34m(self, element, argname, resolved, advice, **kw)\u001b[0m\n\u001b[0;32m   1116\u001b[0m \u001b[38;5;28;01mif\u001b[39;00m \u001b[38;5;129;01mnot\u001b[39;00m advice \u001b[38;5;129;01mand\u001b[39;00m \u001b[38;5;28misinstance\u001b[39m(element, \u001b[38;5;28mlist\u001b[39m):\n\u001b[0;32m   1117\u001b[0m     advice \u001b[38;5;241m=\u001b[39m (\n\u001b[0;32m   1118\u001b[0m         \u001b[38;5;124mf\u001b[39m\u001b[38;5;124m\"\u001b[39m\u001b[38;5;124mDid you mean to say select(\u001b[39m\u001b[38;5;124m\"\u001b[39m\n\u001b[0;32m   1119\u001b[0m         \u001b[38;5;124mf\u001b[39m\u001b[38;5;124m\"\u001b[39m\u001b[38;5;132;01m{\u001b[39;00m\u001b[38;5;124m'\u001b[39m\u001b[38;5;124m, \u001b[39m\u001b[38;5;124m'\u001b[39m\u001b[38;5;241m.\u001b[39mjoin(\u001b[38;5;28mrepr\u001b[39m(e)\u001b[38;5;250m \u001b[39m\u001b[38;5;28;01mfor\u001b[39;00m\u001b[38;5;250m \u001b[39me\u001b[38;5;250m \u001b[39m\u001b[38;5;129;01min\u001b[39;00m\u001b[38;5;250m \u001b[39melement)\u001b[38;5;132;01m}\u001b[39;00m\u001b[38;5;124m)?\u001b[39m\u001b[38;5;124m\"\u001b[39m\n\u001b[0;32m   1120\u001b[0m     )\n\u001b[1;32m-> 1122\u001b[0m \u001b[38;5;28;01mreturn\u001b[39;00m \u001b[38;5;28msuper\u001b[39m()\u001b[38;5;241m.\u001b[39m_raise_for_expected(\n\u001b[0;32m   1123\u001b[0m     element, argname\u001b[38;5;241m=\u001b[39margname, resolved\u001b[38;5;241m=\u001b[39mresolved, advice\u001b[38;5;241m=\u001b[39madvice, \u001b[38;5;241m*\u001b[39m\u001b[38;5;241m*\u001b[39mkw\n\u001b[0;32m   1124\u001b[0m )\n",
      "File \u001b[1;32mc:\\Users\\user\\AppData\\Local\\Programs\\Python\\Python310\\lib\\site-packages\\sqlalchemy\\sql\\coercions.py:693\u001b[0m, in \u001b[0;36m_SelectIsNotFrom._raise_for_expected\u001b[1;34m(self, element, argname, resolved, advice, code, err, **kw)\u001b[0m\n\u001b[0;32m    690\u001b[0m \u001b[38;5;28;01melse\u001b[39;00m:\n\u001b[0;32m    691\u001b[0m     code \u001b[38;5;241m=\u001b[39m \u001b[38;5;28;01mNone\u001b[39;00m\n\u001b[1;32m--> 693\u001b[0m \u001b[38;5;28msuper\u001b[39m()\u001b[38;5;241m.\u001b[39m_raise_for_expected(\n\u001b[0;32m    694\u001b[0m     element,\n\u001b[0;32m    695\u001b[0m     argname\u001b[38;5;241m=\u001b[39margname,\n\u001b[0;32m    696\u001b[0m     resolved\u001b[38;5;241m=\u001b[39mresolved,\n\u001b[0;32m    697\u001b[0m     advice\u001b[38;5;241m=\u001b[39madvice,\n\u001b[0;32m    698\u001b[0m     code\u001b[38;5;241m=\u001b[39mcode,\n\u001b[0;32m    699\u001b[0m     err\u001b[38;5;241m=\u001b[39merr,\n\u001b[0;32m    700\u001b[0m     \u001b[38;5;241m*\u001b[39m\u001b[38;5;241m*\u001b[39mkw,\n\u001b[0;32m    701\u001b[0m )\n\u001b[0;32m    702\u001b[0m \u001b[38;5;66;03m# never reached\u001b[39;00m\n\u001b[0;32m    703\u001b[0m \u001b[38;5;28;01massert\u001b[39;00m \u001b[38;5;28;01mFalse\u001b[39;00m\n",
      "File \u001b[1;32mc:\\Users\\user\\AppData\\Local\\Programs\\Python\\Python310\\lib\\site-packages\\sqlalchemy\\sql\\coercions.py:518\u001b[0m, in \u001b[0;36mRoleImpl._raise_for_expected\u001b[1;34m(self, element, argname, resolved, advice, code, err, **kw)\u001b[0m\n\u001b[0;32m    515\u001b[0m \u001b[38;5;28;01mif\u001b[39;00m advice:\n\u001b[0;32m    516\u001b[0m     msg \u001b[38;5;241m+\u001b[39m\u001b[38;5;241m=\u001b[39m \u001b[38;5;124m\"\u001b[39m\u001b[38;5;124m \u001b[39m\u001b[38;5;124m\"\u001b[39m \u001b[38;5;241m+\u001b[39m advice\n\u001b[1;32m--> 518\u001b[0m \u001b[38;5;28;01mraise\u001b[39;00m exc\u001b[38;5;241m.\u001b[39mArgumentError(msg, code\u001b[38;5;241m=\u001b[39mcode) \u001b[38;5;28;01mfrom\u001b[39;00m \u001b[38;5;21;01merr\u001b[39;00m\n",
      "\u001b[1;31mArgumentError\u001b[0m: Column expression, FROM clause, or other columns clause element expected, got [<sqlalchemy.sql.elements.ColumnClause at 0x239c7336860; name>]. Did you mean to say select(<sqlalchemy.sql.elements.ColumnClause at 0x239c7336860; name>)?"
     ]
    }
   ],
   "source": [
    "# Подзапрос\n",
    "\n",
    "sub_query = db.select([books.c.title, \n",
    "                       db.select([db.column('name')])\n",
    "                           .where(authors.c.id == books.c.author_id)\n",
    "                           .scalar_subquery()\n",
    "                           .label(\"author_name\")])"
   ]
  },
  {
   "cell_type": "code",
   "execution_count": null,
   "metadata": {},
   "outputs": [],
   "source": [
    "result = conn.execute(text(sub_query))\n",
    "print(\"Подзапрос:\")\n",
    "for row in result:\n",
    "    print(row)"
   ]
  }
 ],
 "metadata": {
  "kernelspec": {
   "display_name": "Python 3",
   "language": "python",
   "name": "python3"
  },
  "language_info": {
   "codemirror_mode": {
    "name": "ipython",
    "version": 3
   },
   "file_extension": ".py",
   "mimetype": "text/x-python",
   "name": "python",
   "nbconvert_exporter": "python",
   "pygments_lexer": "ipython3",
   "version": "3.10.6"
  }
 },
 "nbformat": 4,
 "nbformat_minor": 2
}
