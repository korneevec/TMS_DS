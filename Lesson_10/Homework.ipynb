{
 "cells": [
  {
   "cell_type": "markdown",
   "metadata": {},
   "source": [
    "**Задание 1:**\n",
    "\n",
    "Создать базу, добавить в нее 4 таблицы с данными, и реализовать следующие действия:\n",
    "\n",
    "*   HAVING\n",
    "*   JOIN (LEFT, INNER)\n",
    "*   UNION\n",
    "*   подзапросы"
   ]
  },
  {
   "cell_type": "code",
   "execution_count": 436,
   "metadata": {},
   "outputs": [],
   "source": [
    "import sqlalchemy as db\n",
    "from sqlalchemy import text"
   ]
  },
  {
   "cell_type": "code",
   "execution_count": 437,
   "metadata": {},
   "outputs": [],
   "source": [
    "engine = db.create_engine('sqlite:///library.db')\n",
    "conn = engine.connect()\n",
    "metadata = db.MetaData()"
   ]
  },
  {
   "cell_type": "code",
   "execution_count": 438,
   "metadata": {},
   "outputs": [],
   "source": [
    "create_authors_table_query = \"\"\"\n",
    "CREATE TABLE authors (\n",
    "    id INTEGER PRIMARY KEY,\n",
    "    name TEXT NOT NULL\n",
    ")\n",
    "\"\"\""
   ]
  },
  {
   "cell_type": "code",
   "execution_count": 439,
   "metadata": {},
   "outputs": [],
   "source": [
    "create_books_table_query = \"\"\"\n",
    "CREATE TABLE books (\n",
    "    id INTEGER PRIMARY KEY,\n",
    "    title TEXT NOT NULL,\n",
    "    author_id INTEGER,\n",
    "    price REAL\n",
    ")\n",
    "\"\"\""
   ]
  },
  {
   "cell_type": "code",
   "execution_count": 440,
   "metadata": {},
   "outputs": [],
   "source": [
    "create_categories_table_query = \"\"\"\n",
    "CREATE TABLE categories (\n",
    "    id INTEGER PRIMARY KEY,\n",
    "    name TEXT NOT NULL\n",
    ")\n",
    "\"\"\""
   ]
  },
  {
   "cell_type": "code",
   "execution_count": 441,
   "metadata": {},
   "outputs": [],
   "source": [
    "create_book_categories_table_query = \"\"\"\n",
    "CREATE TABLE book_categories (\n",
    "    book_id INTEGER,\n",
    "    category_id INTEGER,\n",
    "    PRIMARY KEY (book_id, category_id),\n",
    "    FOREIGN KEY (book_id) REFERENCES books (id),\n",
    "    FOREIGN KEY (category_id) REFERENCES categories (id)\n",
    ")\n",
    "\"\"\""
   ]
  },
  {
   "cell_type": "markdown",
   "metadata": {},
   "source": [
    "В чем отличия conn.exec_driver_sql() и conn.execute(text()) ?"
   ]
  },
  {
   "cell_type": "code",
   "execution_count": 433,
   "metadata": {},
   "outputs": [
    {
     "data": {
      "text/plain": [
       "<sqlalchemy.engine.cursor.CursorResult at 0x239c7241d80>"
      ]
     },
     "execution_count": 433,
     "metadata": {},
     "output_type": "execute_result"
    }
   ],
   "source": [
    "conn.exec_driver_sql(create_authors_table_query)\n",
    "conn.exec_driver_sql(create_books_table_query)\n",
    "conn.exec_driver_sql(create_categories_table_query)\n",
    "conn.exec_driver_sql(create_book_categories_table_query)"
   ]
  },
  {
   "cell_type": "code",
   "execution_count": 442,
   "metadata": {},
   "outputs": [
    {
     "data": {
      "text/plain": [
       "<sqlalchemy.engine.cursor.CursorResult at 0x239c7453520>"
      ]
     },
     "execution_count": 442,
     "metadata": {},
     "output_type": "execute_result"
    }
   ],
   "source": [
    "conn.execute(text(create_authors_table_query))\n",
    "conn.execute(text(create_books_table_query))\n",
    "conn.execute(text(create_categories_table_query))\n",
    "conn.execute(text(create_book_categories_table_query))"
   ]
  },
  {
   "cell_type": "code",
   "execution_count": 443,
   "metadata": {},
   "outputs": [],
   "source": [
    "insert_authors_query = \"\"\"\n",
    "INSERT INTO authors (name) VALUES\n",
    "('Эдуард Успенский'),\n",
    "('Лев Толстой'),\n",
    "('Марк Твен'),\n",
    "('Фёдор Достоевский'),\n",
    "('Александр Пушкин');\n",
    "\"\"\""
   ]
  },
  {
   "cell_type": "code",
   "execution_count": 444,
   "metadata": {},
   "outputs": [],
   "source": [
    "insert_books_query = \"\"\"\n",
    "INSERT INTO books (title, author_id, price) VALUES\n",
    "('Чебурашка', 1, 15.0),\n",
    "('Война и мир', 2, 30.0),\n",
    "('Анна Каренина', 2, 25.0),\n",
    "('Евгений Онегин', 5, 20.0),\n",
    "('Преступление и наказание', 4, 22.0),\n",
    "('Бесы', 4, 24.0),\n",
    "('Приключения Тома Сойера', 3, 19.0);\n",
    "\"\"\""
   ]
  },
  {
   "cell_type": "code",
   "execution_count": 445,
   "metadata": {},
   "outputs": [],
   "source": [
    "insert_categories_query = \"\"\"\n",
    "INSERT INTO categories (name) VALUES\n",
    "('Детская литература'),\n",
    "('Классическая литература'),\n",
    "('Поэзия'),\n",
    "('Роман');\n",
    "\"\"\""
   ]
  },
  {
   "cell_type": "code",
   "execution_count": 446,
   "metadata": {},
   "outputs": [],
   "source": [
    "insert_book_categories_query = \"\"\"\n",
    "INSERT INTO book_categories (book_id, category_id) VALUES\n",
    "(1, 1),\n",
    "(2, 2),\n",
    "(3, 2),\n",
    "(4, 3),\n",
    "(5, 2),\n",
    "(6, 2),\n",
    "(7, null);\n",
    "\"\"\""
   ]
  },
  {
   "cell_type": "code",
   "execution_count": 447,
   "metadata": {},
   "outputs": [
    {
     "data": {
      "text/plain": [
       "<sqlalchemy.engine.cursor.CursorResult at 0x239c74534c0>"
      ]
     },
     "execution_count": 447,
     "metadata": {},
     "output_type": "execute_result"
    }
   ],
   "source": [
    "conn.execute(text(insert_authors_query))\n",
    "conn.execute(text(insert_books_query))\n",
    "conn.execute(text(insert_categories_query))\n",
    "conn.execute(text(insert_book_categories_query))"
   ]
  },
  {
   "cell_type": "code",
   "execution_count": 448,
   "metadata": {},
   "outputs": [],
   "source": [
    "# HAVING\n",
    "\n",
    "query_having = \"\"\"\n",
    "SELECT authors.name, COUNT(books.id) AS book_count\n",
    "FROM authors\n",
    "JOIN books\n",
    "ON authors.id = books.author_id\n",
    "GROUP BY authors.name\n",
    "HAVING COUNT(books.id) > 1\n",
    "\"\"\""
   ]
  },
  {
   "cell_type": "code",
   "execution_count": 449,
   "metadata": {},
   "outputs": [
    {
     "name": "stdout",
     "output_type": "stream",
     "text": [
      "HAVING:\n",
      "('Лев Толстой', 2)\n",
      "('Фёдор Достоевский', 2)\n"
     ]
    }
   ],
   "source": [
    "result = conn.execute(text(query_having))\n",
    "print(\"HAVING:\")\n",
    "for row in result:\n",
    "    print(row)"
   ]
  },
  {
   "cell_type": "code",
   "execution_count": 450,
   "metadata": {},
   "outputs": [],
   "source": [
    "# JOIN (INNER)\n",
    "\n",
    "query_inner_join = \"\"\"\n",
    "SELECT books.title, authors.name, categories.name\n",
    "FROM books\n",
    "INNER JOIN authors\n",
    "ON books.author_id = authors.id\n",
    "INNER JOIN book_categories\n",
    "ON books.id = book_categories.book_id\n",
    "INNER JOIN categories\n",
    "ON book_categories.category_id = categories.id\n",
    "\"\"\""
   ]
  },
  {
   "cell_type": "code",
   "execution_count": 451,
   "metadata": {},
   "outputs": [
    {
     "name": "stdout",
     "output_type": "stream",
     "text": [
      "INNER JOIN:\n",
      "('Чебурашка', 'Эдуард Успенский', 'Детская литература')\n",
      "('Война и мир', 'Лев Толстой', 'Классическая литература')\n",
      "('Анна Каренина', 'Лев Толстой', 'Классическая литература')\n",
      "('Евгений Онегин', 'Александр Пушкин', 'Поэзия')\n",
      "('Преступление и наказание', 'Фёдор Достоевский', 'Классическая литература')\n",
      "('Бесы', 'Фёдор Достоевский', 'Классическая литература')\n"
     ]
    }
   ],
   "source": [
    "result = conn.execute(text(query_inner_join))\n",
    "print(\"INNER JOIN:\")\n",
    "for row in result:\n",
    "    print(row)"
   ]
  },
  {
   "cell_type": "code",
   "execution_count": 452,
   "metadata": {},
   "outputs": [],
   "source": [
    "# JOIN (LEFT)\n",
    "\n",
    "query_left_join = \"\"\"\n",
    "SELECT books.title, authors.name, categories.name\n",
    "FROM books\n",
    "LEFT JOIN authors ON books.author_id = authors.id\n",
    "LEFT JOIN book_categories ON books.id = book_categories.book_id\n",
    "LEFT JOIN categories ON book_categories.category_id = categories.id\n",
    "\"\"\""
   ]
  },
  {
   "cell_type": "code",
   "execution_count": 453,
   "metadata": {},
   "outputs": [
    {
     "name": "stdout",
     "output_type": "stream",
     "text": [
      "LEFT JOIN:\n",
      "('Чебурашка', 'Эдуард Успенский', 'Детская литература')\n",
      "('Война и мир', 'Лев Толстой', 'Классическая литература')\n",
      "('Анна Каренина', 'Лев Толстой', 'Классическая литература')\n",
      "('Евгений Онегин', 'Александр Пушкин', 'Поэзия')\n",
      "('Преступление и наказание', 'Фёдор Достоевский', 'Классическая литература')\n",
      "('Бесы', 'Фёдор Достоевский', 'Классическая литература')\n",
      "('Приключения Тома Сойера', 'Марк Твен', None)\n"
     ]
    }
   ],
   "source": [
    "result = conn.execute(text(query_left_join))\n",
    "print(\"LEFT JOIN:\")\n",
    "for row in result:\n",
    "    print(row)"
   ]
  },
  {
   "cell_type": "code",
   "execution_count": 454,
   "metadata": {},
   "outputs": [],
   "source": [
    "# UNION\n",
    "\n",
    "query_union = \"\"\"\n",
    "SELECT title AS name \n",
    "FROM books\n",
    "UNION\n",
    "SELECT name FROM authors\n",
    "\"\"\""
   ]
  },
  {
   "cell_type": "code",
   "execution_count": 455,
   "metadata": {},
   "outputs": [
    {
     "name": "stdout",
     "output_type": "stream",
     "text": [
      "UNION:\n",
      "('Александр Пушкин',)\n",
      "('Анна Каренина',)\n",
      "('Бесы',)\n",
      "('Война и мир',)\n",
      "('Евгений Онегин',)\n",
      "('Лев Толстой',)\n",
      "('Марк Твен',)\n",
      "('Преступление и наказание',)\n",
      "('Приключения Тома Сойера',)\n",
      "('Фёдор Достоевский',)\n",
      "('Чебурашка',)\n",
      "('Эдуард Успенский',)\n"
     ]
    }
   ],
   "source": [
    "result = conn.execute(text(query_union))\n",
    "print(\"UNION:\")\n",
    "for row in result:\n",
    "    print(row)"
   ]
  },
  {
   "cell_type": "code",
   "execution_count": 456,
   "metadata": {},
   "outputs": [],
   "source": [
    "# Подзапрос\n",
    "\n",
    "query_subquery = \"\"\"\n",
    "SELECT title, (\n",
    "    SELECT name\n",
    "    FROM authors\n",
    "    WHERE authors.id = books.author_id\n",
    ") AS author_name\n",
    "FROM books\n",
    "\"\"\""
   ]
  },
  {
   "cell_type": "code",
   "execution_count": 457,
   "metadata": {},
   "outputs": [
    {
     "name": "stdout",
     "output_type": "stream",
     "text": [
      "Подзапрос:\n",
      "('Чебурашка', 'Эдуард Успенский')\n",
      "('Война и мир', 'Лев Толстой')\n",
      "('Анна Каренина', 'Лев Толстой')\n",
      "('Евгений Онегин', 'Александр Пушкин')\n",
      "('Преступление и наказание', 'Фёдор Достоевский')\n",
      "('Бесы', 'Фёдор Достоевский')\n",
      "('Приключения Тома Сойера', 'Марк Твен')\n"
     ]
    }
   ],
   "source": [
    "result = conn.execute(text(query_subquery))\n",
    "print(\"Подзапрос:\")\n",
    "for row in result:\n",
    "    print(row)"
   ]
  },
  {
   "cell_type": "code",
   "execution_count": 598,
   "metadata": {},
   "outputs": [],
   "source": [
    "conn.close()\n",
    "engine.dispose()"
   ]
  },
  {
   "cell_type": "code",
   "execution_count": 599,
   "metadata": {},
   "outputs": [],
   "source": [
    "import os\n",
    "os.remove(\"library.db\")"
   ]
  },
  {
   "cell_type": "code",
   "execution_count": 600,
   "metadata": {},
   "outputs": [],
   "source": [
    "engine = db.create_engine('sqlite:///library.db')\n",
    "conn = engine.connect()\n",
    "metadata = db.MetaData()"
   ]
  },
  {
   "cell_type": "code",
   "execution_count": 601,
   "metadata": {},
   "outputs": [],
   "source": [
    "authors = db.Table(\"authors\",metadata,\n",
    "                   db.Column(\"id\", db.INTEGER, primary_key=True),\n",
    "                   db.Column(\"name\", db.TEXT, nullable=False))"
   ]
  },
  {
   "cell_type": "code",
   "execution_count": 602,
   "metadata": {},
   "outputs": [],
   "source": [
    "books = db.Table(\"books\",metadata,\n",
    "                 db.Column(\"id\", db.INTEGER, primary_key=True),\n",
    "                 db.Column(\"title\", db.TEXT, nullable=False),\n",
    "                 db.Column(\"author_id\", db.INTEGER),\n",
    "                 db.Column(\"price\", db.REAL))"
   ]
  },
  {
   "cell_type": "code",
   "execution_count": 603,
   "metadata": {},
   "outputs": [],
   "source": [
    "categories = db.Table(\"categories\",metadata,\n",
    "                      db.Column(\"id\", db.INTEGER, primary_key=True),\n",
    "                      db.Column(\"name\", db.TEXT, nullable=False))"
   ]
  },
  {
   "cell_type": "code",
   "execution_count": 604,
   "metadata": {},
   "outputs": [],
   "source": [
    "book_categories = db.Table(\"book_categories\",metadata,\n",
    "                           db.Column(\"book_id\", db.INTEGER, db.ForeignKey(\"books.id\")),\n",
    "                           db.Column(\"category_id\", db.INTEGER, db.ForeignKey(\"categories.id\"), nullable=True),\n",
    "                           db.PrimaryKeyConstraint(\"book_id\", \"category_id\"))"
   ]
  },
  {
   "cell_type": "code",
   "execution_count": 605,
   "metadata": {},
   "outputs": [],
   "source": [
    "metadata.create_all(engine)"
   ]
  },
  {
   "cell_type": "code",
   "execution_count": 606,
   "metadata": {},
   "outputs": [],
   "source": [
    "insertions = []"
   ]
  },
  {
   "cell_type": "code",
   "execution_count": 608,
   "metadata": {},
   "outputs": [],
   "source": [
    "insertion = authors.insert().values([\n",
    "    {\"name\": \"Эдуард Успенский\"},\n",
    "    {\"name\": \"Лев Толстой\"},\n",
    "    {\"name\": \"Марк Твен\"},\n",
    "    {\"name\": \"Фёдор Достоевский\"},\n",
    "    {\"name\": \"Александр Пушкин\"}\n",
    "])\n",
    "insertions.append(insertion)"
   ]
  },
  {
   "cell_type": "code",
   "execution_count": 609,
   "metadata": {},
   "outputs": [],
   "source": [
    "insertion = books.insert().values([\n",
    "    {\"title\": \"Чебурашка\", \"author_id\": 1, \"price\": 15.0},\n",
    "    {\"title\": \"Война и мир\", \"author_id\": 2, \"price\": 30.0},\n",
    "    {\"title\": \"Анна Каренина\", \"author_id\": 2, \"price\": 25.0},\n",
    "    {\"title\": \"Евгений Онегин\", \"author_id\": 5, \"price\": 20.0},\n",
    "    {\"title\": \"Преступление и наказание\", \"author_id\": 4, \"price\": 22.0},\n",
    "    {\"title\": \"Бесы\", \"author_id\": 4, \"price\": 24.0},\n",
    "    {\"title\": \"Приключения Тома Сойера\", \"author_id\": 3, \"price\": 19.0}\n",
    "])\n",
    "insertions.append(insertion)"
   ]
  },
  {
   "cell_type": "code",
   "execution_count": 610,
   "metadata": {},
   "outputs": [],
   "source": [
    "insertion = categories.insert().values([\n",
    "    {\"name\": \"Детская литература\"},\n",
    "    {\"name\": \"Классическая литература\"},\n",
    "    {\"name\": \"Поэзия\"},\n",
    "    {\"name\": \"Роман\"}\n",
    "])\n",
    "insertions.append(insertion)"
   ]
  },
  {
   "cell_type": "code",
   "execution_count": 611,
   "metadata": {},
   "outputs": [],
   "source": [
    "insertion = book_categories.insert().values([\n",
    "    {\"book_id\": 1, \"category_id\": 1},\n",
    "    {\"book_id\": 2, \"category_id\": 2},\n",
    "    {\"book_id\": 3, \"category_id\": 2},\n",
    "    {\"book_id\": 4, \"category_id\": 3},\n",
    "    {\"book_id\": 5, \"category_id\": 2},\n",
    "    {\"book_id\": 6, \"category_id\": 2},\n",
    "    {\"book_id\": 7, \"category_id\": db.null()},\n",
    "])\n",
    "insertions.append(insertion)"
   ]
  },
  {
   "cell_type": "code",
   "execution_count": 612,
   "metadata": {},
   "outputs": [],
   "source": [
    "for insertion in insertions:\n",
    "    conn.execute(insertion)"
   ]
  },
  {
   "cell_type": "code",
   "execution_count": 613,
   "metadata": {},
   "outputs": [],
   "source": [
    "# HAVING\n",
    "\n",
    "having = db.select(authors.c.name,\n",
    "                   db.func.count(books.c.id).label('book_count'))\\\n",
    "            .select_from(authors.join(books, authors.c.id == books.c.author_id))\\\n",
    "            .group_by(authors.c.name)\\\n",
    "            .having(db.func.count(books.c.id) > 1)"
   ]
  },
  {
   "cell_type": "code",
   "execution_count": 614,
   "metadata": {},
   "outputs": [
    {
     "name": "stdout",
     "output_type": "stream",
     "text": [
      "HAVING:\n",
      "('Лев Толстой', 2)\n",
      "('Фёдор Достоевский', 2)\n"
     ]
    }
   ],
   "source": [
    "result = conn.execute(having)\n",
    "print(\"HAVING:\")\n",
    "for row in result:\n",
    "    print(row)"
   ]
  },
  {
   "cell_type": "code",
   "execution_count": 615,
   "metadata": {},
   "outputs": [],
   "source": [
    "# JOIN (INNER)\n",
    "\n",
    "inner_join = db.select(books.c.title,\n",
    "                       authors.c.name,\n",
    "                       categories.c.name)\\\n",
    "                .select_from(\n",
    "                    books.join(authors, books.c.author_id == authors.c.id)\\\n",
    "                        .join(book_categories, books.c.id == book_categories.c.book_id)\\\n",
    "                        .join(categories, book_categories.c.category_id == categories.c.id)\n",
    "                )"
   ]
  },
  {
   "cell_type": "code",
   "execution_count": 616,
   "metadata": {},
   "outputs": [
    {
     "name": "stdout",
     "output_type": "stream",
     "text": [
      "INNER JOIN:\n",
      "('Чебурашка', 'Эдуард Успенский', 'Детская литература')\n",
      "('Война и мир', 'Лев Толстой', 'Классическая литература')\n",
      "('Анна Каренина', 'Лев Толстой', 'Классическая литература')\n",
      "('Евгений Онегин', 'Александр Пушкин', 'Поэзия')\n",
      "('Преступление и наказание', 'Фёдор Достоевский', 'Классическая литература')\n",
      "('Бесы', 'Фёдор Достоевский', 'Классическая литература')\n"
     ]
    }
   ],
   "source": [
    "result = conn.execute(inner_join)\n",
    "print(\"INNER JOIN:\")\n",
    "for row in result:\n",
    "    print(row)"
   ]
  },
  {
   "cell_type": "code",
   "execution_count": 661,
   "metadata": {},
   "outputs": [],
   "source": [
    "# JOIN (LEFT)\n",
    "\n",
    "left_join = db.select(books.c.title,\n",
    "                      authors.c.name,\n",
    "                      categories.c.name)\\\n",
    "            .select_from(\n",
    "                books.outerjoin(authors, books.c.author_id == authors.c.id)\\\n",
    "                    .outerjoin(book_categories, books.c.id == book_categories.c.book_id)\\\n",
    "                    .outerjoin(categories, book_categories.c.category_id == categories.c.id)\n",
    "            )"
   ]
  },
  {
   "cell_type": "code",
   "execution_count": 618,
   "metadata": {},
   "outputs": [
    {
     "name": "stdout",
     "output_type": "stream",
     "text": [
      "LEFT JOIN:\n",
      "('Чебурашка', 'Эдуард Успенский', 'Детская литература')\n",
      "('Война и мир', 'Лев Толстой', 'Классическая литература')\n",
      "('Анна Каренина', 'Лев Толстой', 'Классическая литература')\n",
      "('Евгений Онегин', 'Александр Пушкин', 'Поэзия')\n",
      "('Преступление и наказание', 'Фёдор Достоевский', 'Классическая литература')\n",
      "('Бесы', 'Фёдор Достоевский', 'Классическая литература')\n",
      "('Приключения Тома Сойера', 'Марк Твен', None)\n"
     ]
    }
   ],
   "source": [
    "result = conn.execute(left_join)\n",
    "print(\"LEFT JOIN:\")\n",
    "for row in result:\n",
    "    print(row)"
   ]
  },
  {
   "cell_type": "code",
   "execution_count": 622,
   "metadata": {},
   "outputs": [],
   "source": [
    "# UNION\n",
    "\"\"\"\n",
    "SELECT title AS name \n",
    "FROM books\n",
    "UNION\n",
    "SELECT name FROM authors\n",
    "\"\"\"\n",
    "\n",
    "query_1 = db.select(books.c.title)\n",
    "query_2 = db.select(authors.c.name)\n",
    "union = db.union(query_1, query_2)"
   ]
  },
  {
   "cell_type": "code",
   "execution_count": 623,
   "metadata": {},
   "outputs": [
    {
     "name": "stdout",
     "output_type": "stream",
     "text": [
      "UNION:\n",
      "('Александр Пушкин',)\n",
      "('Анна Каренина',)\n",
      "('Бесы',)\n",
      "('Война и мир',)\n",
      "('Евгений Онегин',)\n",
      "('Лев Толстой',)\n",
      "('Марк Твен',)\n",
      "('Преступление и наказание',)\n",
      "('Приключения Тома Сойера',)\n",
      "('Фёдор Достоевский',)\n",
      "('Чебурашка',)\n",
      "('Эдуард Успенский',)\n"
     ]
    }
   ],
   "source": [
    "result = conn.execute(union)\n",
    "print(\"UNION:\")\n",
    "for row in result:\n",
    "    print(row)"
   ]
  },
  {
   "cell_type": "code",
   "execution_count": 655,
   "metadata": {},
   "outputs": [],
   "source": [
    "# Подзапрос\n",
    "\"\"\"\n",
    "SELECT title, (\n",
    "    SELECT name\n",
    "    FROM authors\n",
    "    WHERE authors.id = books.author_id\n",
    ") AS author_name\n",
    "FROM books\n",
    "\"\"\"\n",
    "\n",
    "query_1 = db.select(authors.c.name)\\\n",
    "            .select_from(authors)\\\n",
    "            .where(authors.c.id == books.c.author_id)\n",
    "query_2 = db.select(books.c.title, query_1.label('author_name'))"
   ]
  },
  {
   "cell_type": "code",
   "execution_count": 656,
   "metadata": {},
   "outputs": [
    {
     "name": "stdout",
     "output_type": "stream",
     "text": [
      "Подзапрос:\n",
      "('Чебурашка', 'Эдуард Успенский')\n",
      "('Война и мир', 'Лев Толстой')\n",
      "('Анна Каренина', 'Лев Толстой')\n",
      "('Евгений Онегин', 'Александр Пушкин')\n",
      "('Преступление и наказание', 'Фёдор Достоевский')\n",
      "('Бесы', 'Фёдор Достоевский')\n",
      "('Приключения Тома Сойера', 'Марк Твен')\n"
     ]
    }
   ],
   "source": [
    "result = conn.execute(query_2)\n",
    "print(\"Подзапрос:\")\n",
    "for row in result:\n",
    "    print(row)"
   ]
  }
 ],
 "metadata": {
  "kernelspec": {
   "display_name": "Python 3",
   "language": "python",
   "name": "python3"
  },
  "language_info": {
   "codemirror_mode": {
    "name": "ipython",
    "version": 3
   },
   "file_extension": ".py",
   "mimetype": "text/x-python",
   "name": "python",
   "nbconvert_exporter": "python",
   "pygments_lexer": "ipython3",
   "version": "3.10.6"
  }
 },
 "nbformat": 4,
 "nbformat_minor": 2
}
