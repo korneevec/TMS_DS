{
 "cells": [
  {
   "cell_type": "code",
   "execution_count": 28,
   "metadata": {},
   "outputs": [],
   "source": [
    "import math\n",
    "from itertools import *"
   ]
  },
  {
   "cell_type": "markdown",
   "metadata": {},
   "source": [
    "**1. Комбинаторика**"
   ]
  },
  {
   "cell_type": "markdown",
   "metadata": {},
   "source": [
    "**Задание 1:**\n",
    "\n",
    "В группе 30 студентов. Необходимо выбрать старосту, заместителя старосты и\n",
    "профорга. Сколько существует способов это сделать?"
   ]
  },
  {
   "cell_type": "code",
   "execution_count": 85,
   "metadata": {},
   "outputs": [
    {
     "data": {
      "text/plain": [
       "24360"
      ]
     },
     "execution_count": 85,
     "metadata": {},
     "output_type": "execute_result"
    }
   ],
   "source": [
    "30 * 29 * 28"
   ]
  },
  {
   "cell_type": "markdown",
   "metadata": {},
   "source": [
    "**Задание 2:**\n",
    "\n",
    "Два почтальона должны разнести 10 писем по 10 адресам. Сколькими\n",
    "способами они могут распределить работу?"
   ]
  },
  {
   "cell_type": "code",
   "execution_count": 86,
   "metadata": {},
   "outputs": [
    {
     "data": {
      "text/plain": [
       "1024"
      ]
     },
     "execution_count": 86,
     "metadata": {},
     "output_type": "execute_result"
    }
   ],
   "source": [
    "2 ** 10"
   ]
  },
  {
   "cell_type": "markdown",
   "metadata": {},
   "source": [
    "**Задание 3:**\n",
    "\n",
    "В ящике 100 деталей, из них 30 – деталей 1-го сорта, 50 – 2-го, остальные – 3-\n",
    "го. Сколько существует способов извлечения из ящика одной детали 1-го или 2-го сорта?"
   ]
  },
  {
   "cell_type": "code",
   "execution_count": 84,
   "metadata": {},
   "outputs": [
    {
     "data": {
      "text/plain": [
       "80.0"
      ]
     },
     "execution_count": 84,
     "metadata": {},
     "output_type": "execute_result"
    }
   ],
   "source": [
    "A = math.factorial(30)/(math.factorial(30-1) * math.factorial(1))\n",
    "B = math.factorial(50)/(math.factorial(50-1) * math.factorial(1))\n",
    "A + B"
   ]
  },
  {
   "cell_type": "markdown",
   "metadata": {},
   "source": [
    "**Задание 5:**\n",
    "\n",
    "Порядок выступления 7 участников конкурса определяется жребием. Сколько\n",
    "различных вариантов жеребьевки при этом возможно?"
   ]
  },
  {
   "cell_type": "code",
   "execution_count": 88,
   "metadata": {},
   "outputs": [
    {
     "data": {
      "text/plain": [
       "5040"
      ]
     },
     "execution_count": 88,
     "metadata": {},
     "output_type": "execute_result"
    }
   ],
   "source": [
    "math.factorial(7)"
   ]
  },
  {
   "cell_type": "markdown",
   "metadata": {},
   "source": [
    "**Задание 6:**\n",
    "\n",
    "В конкурсе по 5 номинациям участвуют 10 кинофильмов. Сколько существует\n",
    "вариантов распределения призов, если по всем номинациям установлены различные\n",
    "премии?"
   ]
  },
  {
   "cell_type": "code",
   "execution_count": 87,
   "metadata": {},
   "outputs": [
    {
     "data": {
      "text/plain": [
       "30240.0"
      ]
     },
     "execution_count": 87,
     "metadata": {},
     "output_type": "execute_result"
    }
   ],
   "source": [
    "math.factorial(10)/math.factorial(10 - 5)"
   ]
  },
  {
   "cell_type": "markdown",
   "metadata": {},
   "source": [
    "**Задание 7:**\n",
    "\n",
    "В шахматном турнире участвуют 16 человек. Сколько партий должно быть\n",
    "сыграно в турнире, если между любыми двумя участниками должна быть сыграна одна\n",
    "партия?"
   ]
  },
  {
   "cell_type": "code",
   "execution_count": 89,
   "metadata": {},
   "outputs": [
    {
     "data": {
      "text/plain": [
       "120.0"
      ]
     },
     "execution_count": 89,
     "metadata": {},
     "output_type": "execute_result"
    }
   ],
   "source": [
    "math.factorial(16)/(math.factorial(16 - 2) * math.factorial(2))"
   ]
  },
  {
   "cell_type": "markdown",
   "metadata": {},
   "source": [
    "**Задание 8:**\n",
    "\n",
    "В условиях задачи 6 определить, сколько существует вариантов распределения\n",
    "призов, если по всем номинациям установлены одинаковые призы?"
   ]
  },
  {
   "cell_type": "code",
   "execution_count": 90,
   "metadata": {},
   "outputs": [
    {
     "data": {
      "text/plain": [
       "2002.0"
      ]
     },
     "execution_count": 90,
     "metadata": {},
     "output_type": "execute_result"
    }
   ],
   "source": [
    "math.factorial(10 + 5 - 1)/(math.factorial(10 - 1) * math.factorial(5))"
   ]
  },
  {
   "cell_type": "markdown",
   "metadata": {},
   "source": [
    "**Задание 9:**\n",
    "\n",
    "Садовник должен в течении трех дней посадить 6 деревьев. Сколькими\n",
    "способами он может распределить по дням работу, если будет сажать не менее одного\n",
    "дерева в день?"
   ]
  },
  {
   "cell_type": "code",
   "execution_count": 91,
   "metadata": {},
   "outputs": [
    {
     "data": {
      "text/plain": [
       "10.0"
      ]
     },
     "execution_count": 91,
     "metadata": {},
     "output_type": "execute_result"
    }
   ],
   "source": [
    "math.factorial((6 - 1))/(math.factorial((6 - 1) - (3 - 1)) * math.factorial((3 - 1)))"
   ]
  },
  {
   "cell_type": "markdown",
   "metadata": {},
   "source": [
    "**Задание 10:**\n",
    "\n",
    "Сколько существует четырехзначных чисел (возможно, начинающихся с нуля),\n",
    "сумма цифр которых равна 5?"
   ]
  },
  {
   "cell_type": "code",
   "execution_count": 113,
   "metadata": {},
   "outputs": [],
   "source": [
    "count = 0\n",
    "for i in product(\"0123456789\", repeat = 4):\n",
    "    digits_sum = sum(int(digit) for digit in i)\n",
    "    if digits_sum == 5:\n",
    "        count += 1"
   ]
  },
  {
   "cell_type": "code",
   "execution_count": 114,
   "metadata": {},
   "outputs": [
    {
     "data": {
      "text/plain": [
       "56"
      ]
     },
     "execution_count": 114,
     "metadata": {},
     "output_type": "execute_result"
    }
   ],
   "source": [
    "count"
   ]
  },
  {
   "cell_type": "markdown",
   "metadata": {},
   "source": [
    "**Задание 11:**\n",
    "\n",
    "Сколькими способами можно разбить группу из 25 студентов на три подгруппы\n",
    "А, В и С по 6, 9 и 10 человек соответственно?"
   ]
  },
  {
   "cell_type": "code",
   "execution_count": 92,
   "metadata": {},
   "outputs": [
    {
     "data": {
      "text/plain": [
       "16360143800.0"
      ]
     },
     "execution_count": 92,
     "metadata": {},
     "output_type": "execute_result"
    }
   ],
   "source": [
    "math.factorial(25)/(math.factorial(6) * math.factorial(9) * math.factorial(10))"
   ]
  },
  {
   "cell_type": "markdown",
   "metadata": {},
   "source": [
    "**Задание 12:**\n",
    "\n",
    "Сколько существует семизначных чисел, состоящих из цифр 4, 5 и 6, в которых\n",
    "цифра 4 повторяется 3 раза, а цифры 5 и 6 – по 2 раза?"
   ]
  },
  {
   "cell_type": "code",
   "execution_count": 93,
   "metadata": {},
   "outputs": [
    {
     "data": {
      "text/plain": [
       "210.0"
      ]
     },
     "execution_count": 93,
     "metadata": {},
     "output_type": "execute_result"
    }
   ],
   "source": [
    "math.factorial(7)/(math.factorial(3) * math.factorial(2) * math.factorial(2))"
   ]
  },
  {
   "cell_type": "markdown",
   "metadata": {},
   "source": [
    "**2. Классическая вероятностная модель. Геометрическая вероятность**"
   ]
  },
  {
   "cell_type": "markdown",
   "metadata": {},
   "source": [
    "**Задание 1:**\n",
    "\n",
    "В ящике 5 апельсинов и 4 яблока. Наудачу выбираются 3 фрукта. Какова\n",
    "вероятность, что все три фрукта – апельсины?"
   ]
  },
  {
   "cell_type": "code",
   "execution_count": 94,
   "metadata": {},
   "outputs": [
    {
     "data": {
      "text/plain": [
       "0.11904761904761904"
      ]
     },
     "execution_count": 94,
     "metadata": {},
     "output_type": "execute_result"
    }
   ],
   "source": [
    "(5 / 9) * (4 / 8) * (3 / 7)"
   ]
  },
  {
   "cell_type": "markdown",
   "metadata": {},
   "source": [
    "**Задание 2:**\n",
    "\n",
    "Преподаватель предлагает каждому из трех студентов задумать любое число от\n",
    "1 до 10. Считая, что выбор каждым из студентов любого числа из заданных\n",
    "равновозможен, найти вероятность того, что у кого-то из них задуманные числа совпадут"
   ]
  },
  {
   "cell_type": "code",
   "execution_count": 95,
   "metadata": {},
   "outputs": [
    {
     "data": {
      "text/plain": [
       "0.28"
      ]
     },
     "execution_count": 95,
     "metadata": {},
     "output_type": "execute_result"
    }
   ],
   "source": [
    "1 - (10 * 9 * 8) / (10 * 10 * 10)"
   ]
  },
  {
   "cell_type": "markdown",
   "metadata": {},
   "source": [
    "**Задание 3:**\n",
    "\n",
    "Найти вероятность того, что в 8-значном числе ровно 4 цифры совпадают, а\n",
    "остальные различны"
   ]
  },
  {
   "cell_type": "code",
   "execution_count": 111,
   "metadata": {},
   "outputs": [],
   "source": [
    "count = 0\n",
    "for i in product(\"0123456789\", repeat = 8):\n",
    "    unique_digits = len(set(i))\n",
    "    if unique_digits == 5:\n",
    "        count += 1"
   ]
  },
  {
   "cell_type": "code",
   "execution_count": 112,
   "metadata": {},
   "outputs": [
    {
     "data": {
      "text/plain": [
       "0.31752"
      ]
     },
     "execution_count": 112,
     "metadata": {},
     "output_type": "execute_result"
    }
   ],
   "source": [
    "count / 10 ** 8"
   ]
  },
  {
   "cell_type": "code",
   "execution_count": 106,
   "metadata": {},
   "outputs": [
    {
     "data": {
      "text/plain": [
       "0.021168"
      ]
     },
     "execution_count": 106,
     "metadata": {},
     "output_type": "execute_result"
    }
   ],
   "source": [
    "rep_num = math.factorial(8) / (math.factorial(8 - 4) * math.factorial(4))\n",
    "num = math.factorial(9) / math.factorial(9 - 4)\n",
    "total_out = 10 ** 8\n",
    "\n",
    "(10 * rep_num * num) / total_out"
   ]
  },
  {
   "cell_type": "markdown",
   "metadata": {},
   "source": [
    "**Задание 4:**\n",
    "\n",
    "Шесть клиентов случайным образом обращаются в 5 фирм. Найти вероятность\n",
    "того, что хотя бы в одну фирму никто не обратится."
   ]
  },
  {
   "cell_type": "markdown",
   "metadata": {},
   "source": [
    "**Задание 5:**\n",
    "\n",
    "Пусть в урне имеется N шаров, из них М белых и N–M черных. Из урны"
   ]
  },
  {
   "cell_type": "markdown",
   "metadata": {},
   "source": [
    "**3. Основные формулы теории вероятностей**"
   ]
  },
  {
   "cell_type": "markdown",
   "metadata": {},
   "source": [
    "**Задание 1:**\n",
    "\n",
    "В ящике 10 красных и 5 синих пуговиц. Вынимаются наудачу две пуговицы.\n",
    "Какова вероятность, что пуговицы будут одноцветными? "
   ]
  },
  {
   "cell_type": "code",
   "execution_count": 103,
   "metadata": {},
   "outputs": [
    {
     "data": {
      "text/plain": [
       "0.5238095238095238"
      ]
     },
     "execution_count": 103,
     "metadata": {},
     "output_type": "execute_result"
    }
   ],
   "source": [
    "red = math.factorial(10) / (math.factorial(10 - 2) * math.factorial(2))\n",
    "blue = math.factorial(5) / (math.factorial(5 - 2) * math.factorial(2))\n",
    "two_count = math.factorial(15) / (math.factorial(15 - 2) * math.factorial(2))\n",
    "\n",
    "(red + blue) / two_count"
   ]
  },
  {
   "cell_type": "markdown",
   "metadata": {},
   "source": [
    "**Задание 2:**\n",
    "\n",
    "Среди сотрудников фирмы 28% знают английский язык, 30% – немецкий, 42% –\n",
    "французский; английский и немецкий – 8%, английский и французский – 10%, немецкий и\n",
    "французский – 5%, все три языка – 3%. Найти вероятность того, что случайно выбранный\n",
    "сотрудник фирмы: а) знает английский или немецкий; б) знает английский, немецкий или\n",
    "французский; в) не знает ни один из перечисленных языков"
   ]
  },
  {
   "cell_type": "code",
   "execution_count": 116,
   "metadata": {},
   "outputs": [
    {
     "name": "stdout",
     "output_type": "stream",
     "text": [
      "Знает английский или немецкий 0.5\n",
      "Знает английский, немецкий или французский 0.74\n",
      "Не знает ни один из перечисленных языков 0.26\n"
     ]
    }
   ],
   "source": [
    "A = (28 + 30 - 8) / 100\n",
    "print(f\"Знает английский или немецкий {A}\")\n",
    "\n",
    "B = (28 + 30 + 42 - 8 - 10 - 5 - 3) / 100\n",
    "print(f\"Знает английский, немецкий или французский {B}\")\n",
    "\n",
    "C = 1 - B\n",
    "print(f\"Не знает ни один из перечисленных языков {C}\")"
   ]
  },
  {
   "cell_type": "code",
   "execution_count": 117,
   "metadata": {},
   "outputs": [
    {
     "name": "stdout",
     "output_type": "stream",
     "text": [
      "Не знает ни один из перечисленных языков 0.2\n"
     ]
    }
   ],
   "source": [
    "from decimal import Decimal\n",
    "\n",
    "B = Decimal(28 + 30 + 42 - 8 - 10 - 5 + 3) / Decimal(100)\n",
    "C = Decimal(1) - B\n",
    "\n",
    "print(f\"Не знает ни один из перечисленных языков {C}\")"
   ]
  },
  {
   "cell_type": "code",
   "execution_count": 83,
   "metadata": {},
   "outputs": [
    {
     "data": {
      "text/plain": [
       "0.19999999999999996"
      ]
     },
     "execution_count": 83,
     "metadata": {},
     "output_type": "execute_result"
    }
   ],
   "source": [
    "1 - 0.8"
   ]
  },
  {
   "cell_type": "markdown",
   "metadata": {},
   "source": [
    "**Задание 3:**\n",
    "\n",
    "В семье – двое детей. Какова вероятность, что старший ребенок – мальчик, если\n",
    "известно, что в семье есть дети обоего пола?"
   ]
  },
  {
   "cell_type": "code",
   "execution_count": 100,
   "metadata": {},
   "outputs": [
    {
     "data": {
      "text/plain": [
       "0.5"
      ]
     },
     "execution_count": 100,
     "metadata": {},
     "output_type": "execute_result"
    }
   ],
   "source": [
    "1 / 2"
   ]
  }
 ],
 "metadata": {
  "kernelspec": {
   "display_name": "Python 3",
   "language": "python",
   "name": "python3"
  },
  "language_info": {
   "codemirror_mode": {
    "name": "ipython",
    "version": 3
   },
   "file_extension": ".py",
   "mimetype": "text/x-python",
   "name": "python",
   "nbconvert_exporter": "python",
   "pygments_lexer": "ipython3",
   "version": "3.10.6"
  }
 },
 "nbformat": 4,
 "nbformat_minor": 2
}
