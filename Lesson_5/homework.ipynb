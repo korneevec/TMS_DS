{
  "nbformat": 4,
  "nbformat_minor": 0,
  "metadata": {
    "colab": {
      "provenance": []
    },
    "kernelspec": {
      "name": "python3",
      "display_name": "Python 3"
    },
    "language_info": {
      "name": "python"
    }
  },
  "cells": [
    {
      "cell_type": "markdown",
      "source": [
        "**Задание 1**:\n",
        "\n",
        "Напишите функцию для разделения строки и преобразования ее в список\n",
        "слов.\n",
        "\n",
        "Пример: `\"Robin Singh\" ==> [\"Robin\", \"Singh\"]`"
      ],
      "metadata": {
        "id": "mMdsHVY2u-wi"
      }
    },
    {
      "cell_type": "code",
      "source": [
        "some_str = \"Robin Singh\""
      ],
      "metadata": {
        "id": "8u-nWD_dGguQ"
      },
      "execution_count": 133,
      "outputs": []
    },
    {
      "cell_type": "code",
      "source": [
        "def split_str(some_str):\n",
        "  return some_str.split(\" \")"
      ],
      "metadata": {
        "id": "ga3lQKdjzbro"
      },
      "execution_count": 134,
      "outputs": []
    },
    {
      "cell_type": "code",
      "source": [
        "split_str(some_str)"
      ],
      "metadata": {
        "colab": {
          "base_uri": "https://localhost:8080/"
        },
        "id": "QDjO14Qmzi7h",
        "outputId": "3d5eefdb-f3e8-4315-c8c0-6435b14f22f0"
      },
      "execution_count": 135,
      "outputs": [
        {
          "output_type": "execute_result",
          "data": {
            "text/plain": [
              "['Robin', 'Singh']"
            ]
          },
          "metadata": {},
          "execution_count": 135
        }
      ]
    },
    {
      "cell_type": "markdown",
      "source": [
        "**Задание 2**:\n",
        "\n",
        "Натан любит кататься на велосипеде. Поскольку Натан знает, как важно\n",
        "избегать обезвоживания, он выпивает 0,5 литра воды за час езды на\n",
        "велосипеде. Вам дано время в часах, и вам нужно вернуть количество\n",
        "литров, которое выпьет Натан, округленное до наименьшего значения.\n",
        "\n",
        "Пример: `time = 3 ----> litres = 1`\n"
      ],
      "metadata": {
        "id": "V_u_oGn4vAd5"
      }
    },
    {
      "cell_type": "code",
      "source": [
        "l_per_hour = 0.5"
      ],
      "metadata": {
        "id": "MLrFdYUl0XP1"
      },
      "execution_count": 52,
      "outputs": []
    },
    {
      "cell_type": "code",
      "source": [
        "from decimal import Decimal, ROUND_HALF_DOWN\n",
        "\n",
        "def water_counter(time):\n",
        "  litres = Decimal(time*l_per_hour)\n",
        "  return int(litres.quantize(Decimal(\"1\"), ROUND_HALF_DOWN))"
      ],
      "metadata": {
        "id": "cxQ4gEkGz23Q"
      },
      "execution_count": 136,
      "outputs": []
    },
    {
      "cell_type": "code",
      "source": [
        "def water_counter(time):\n",
        "  return int(time*l_per_hour//1)"
      ],
      "metadata": {
        "id": "SrCi2wef3XYM"
      },
      "execution_count": 137,
      "outputs": []
    },
    {
      "cell_type": "code",
      "source": [
        "water_counter(3)"
      ],
      "metadata": {
        "colab": {
          "base_uri": "https://localhost:8080/"
        },
        "id": "BBn-AlQ30itD",
        "outputId": "749cdfad-76ad-4cfc-b084-49f320fbf398"
      },
      "execution_count": 138,
      "outputs": [
        {
          "output_type": "execute_result",
          "data": {
            "text/plain": [
              "1"
            ]
          },
          "metadata": {},
          "execution_count": 138
        }
      ]
    },
    {
      "cell_type": "markdown",
      "source": [
        "**Задание 3**:\n",
        "\n",
        "Создайте функцию, которая возвращает список целых чисел от n до 1,\n",
        "где n>0.\n",
        "\n",
        "Пример: `n=5-->[5,4,3,2,1]`\n",
        "\n"
      ],
      "metadata": {
        "id": "MH_jj18mvCHO"
      }
    },
    {
      "cell_type": "code",
      "source": [
        "def list_creator(n):\n",
        "  return [x for x in range(n,0,-1)]"
      ],
      "metadata": {
        "id": "URFWdOhW3JtB"
      },
      "execution_count": 139,
      "outputs": []
    },
    {
      "cell_type": "code",
      "source": [
        "list_creator(5)"
      ],
      "metadata": {
        "colab": {
          "base_uri": "https://localhost:8080/"
        },
        "id": "yA996-K43dWq",
        "outputId": "f7e38b13-fce0-4c2b-c1dd-8c10339e3ca9"
      },
      "execution_count": 45,
      "outputs": [
        {
          "output_type": "execute_result",
          "data": {
            "text/plain": [
              "[5, 4, 3, 2, 1]"
            ]
          },
          "metadata": {},
          "execution_count": 45
        }
      ]
    },
    {
      "cell_type": "markdown",
      "source": [
        "**Задание 4**:\n",
        "\n",
        "Учитывая год, верните столетие, в котором он находится.\n",
        "\n",
        "Пример: `1705 --> 18 1900 --> 19 1601 --> 17`\n"
      ],
      "metadata": {
        "id": "7x6TzQw3vECz"
      }
    },
    {
      "cell_type": "code",
      "source": [
        "from decimal import Decimal, ROUND_HALF_UP\n",
        "\n",
        "def year_counter(year):\n",
        "  if year % 100 == 0:\n",
        "    return year//100\n",
        "  return (year//100) + 1"
      ],
      "metadata": {
        "id": "Ea_tzYOS3mKd"
      },
      "execution_count": 140,
      "outputs": []
    },
    {
      "cell_type": "code",
      "source": [
        "year_counter(1600)"
      ],
      "metadata": {
        "colab": {
          "base_uri": "https://localhost:8080/"
        },
        "id": "3_FvW6553yxJ",
        "outputId": "0717a3ab-b3ab-4f6b-8b9f-a069cb040d0c"
      },
      "execution_count": 142,
      "outputs": [
        {
          "output_type": "execute_result",
          "data": {
            "text/plain": [
              "16"
            ]
          },
          "metadata": {},
          "execution_count": 142
        }
      ]
    },
    {
      "cell_type": "markdown",
      "source": [
        "**Задание 5**:\n",
        "\n",
        "Учитывая случайное неотрицательное число, вам необходимо вернуть\n",
        "цифры этого числа в массиве в обратном порядке.\n",
        "\n",
        "Пример: `35231 => [1,3,2,5,3]`\n"
      ],
      "metadata": {
        "id": "UHOOffVVvFQj"
      }
    },
    {
      "cell_type": "code",
      "source": [
        "def number_to_list(number):\n",
        "  return [int(x) for x in str(number)[::-1]]"
      ],
      "metadata": {
        "id": "xGjyhQ7S4jDZ"
      },
      "execution_count": 141,
      "outputs": []
    },
    {
      "cell_type": "code",
      "source": [
        "number_to_list(35231)"
      ],
      "metadata": {
        "colab": {
          "base_uri": "https://localhost:8080/"
        },
        "id": "pCpurjtB4wpf",
        "outputId": "8d7b47f3-b7f7-4b54-ffde-a84c67ce602d"
      },
      "execution_count": 143,
      "outputs": [
        {
          "output_type": "execute_result",
          "data": {
            "text/plain": [
              "[1, 3, 2, 5, 3]"
            ]
          },
          "metadata": {},
          "execution_count": 143
        }
      ]
    },
    {
      "cell_type": "markdown",
      "source": [
        "**Задание 6**:\n",
        "\n",
        "Получить квадратные матрицы порядка n (через список как на\n",
        "занятии), элементами которых являются заданные\n",
        "действительные числа 1, 2, ..., n*n, расположенные в ней по схемам,\n",
        "которые приведены на рисунках\n",
        "\n",
        "\n",
        "![image.png](data:image/png;base64,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)"
      ],
      "metadata": {
        "id": "coQcONq5vHUZ"
      }
    },
    {
      "cell_type": "code",
      "source": [
        "def matrix_vertical(n):\n",
        "  matrix = []\n",
        "  for i in range(n):\n",
        "    t_matrix = []\n",
        "    for j in range(n):\n",
        "      if j % 2 == 0:\n",
        "        t_matrix.append(j * n + i + 1)\n",
        "      else:\n",
        "        t_matrix.append(j * n + n - i)\n",
        "    matrix.append(t_matrix)\n",
        "  return matrix\n"
      ],
      "metadata": {
        "id": "SjUa3OHhyVoS"
      },
      "execution_count": 144,
      "outputs": []
    },
    {
      "cell_type": "code",
      "source": [
        "def matrix_horizontal(n):\n",
        "  matrix = []\n",
        "  for i in range(n):\n",
        "    t_matrix = []\n",
        "    for j in range(n):\n",
        "      if i % 2 == 0:\n",
        "        t_matrix.append(i * n + j + 1)\n",
        "      else:\n",
        "        t_matrix.append(i * n + n - j)\n",
        "    matrix.append(t_matrix)\n",
        "  return matrix"
      ],
      "metadata": {
        "id": "q_eEUkVt2PfX"
      },
      "execution_count": 145,
      "outputs": []
    },
    {
      "cell_type": "code",
      "source": [
        "matrix = matrix_vertical(5)\n",
        "\n",
        "for row in matrix:\n",
        "  print(row)"
      ],
      "metadata": {
        "colab": {
          "base_uri": "https://localhost:8080/"
        },
        "id": "FOMSNSi_yzKI",
        "outputId": "a656689b-4c9a-4268-c90f-7dfad94f47b9"
      },
      "execution_count": 146,
      "outputs": [
        {
          "output_type": "stream",
          "name": "stdout",
          "text": [
            "[1, 10, 11, 20, 21]\n",
            "[2, 9, 12, 19, 22]\n",
            "[3, 8, 13, 18, 23]\n",
            "[4, 7, 14, 17, 24]\n",
            "[5, 6, 15, 16, 25]\n"
          ]
        }
      ]
    },
    {
      "cell_type": "code",
      "source": [
        "matrix = matrix_horizontal(5)\n",
        "\n",
        "for row in matrix:\n",
        "  print(row)"
      ],
      "metadata": {
        "colab": {
          "base_uri": "https://localhost:8080/"
        },
        "id": "CV7ECi_P1qoN",
        "outputId": "06a139c9-3a6f-46d6-d28e-7f7751530b57"
      },
      "execution_count": 147,
      "outputs": [
        {
          "output_type": "stream",
          "name": "stdout",
          "text": [
            "[1, 2, 3, 4, 5]\n",
            "[10, 9, 8, 7, 6]\n",
            "[11, 12, 13, 14, 15]\n",
            "[20, 19, 18, 17, 16]\n",
            "[21, 22, 23, 24, 25]\n"
          ]
        }
      ]
    },
    {
      "cell_type": "markdown",
      "source": [
        "**Задание 7**:"
      ],
      "metadata": {
        "id": "MT2M7Y_b3Bqt"
      }
    },
    {
      "cell_type": "code",
      "source": [
        "def matrix(n):\n",
        "  matrix = []\n",
        "  for i in range(n):\n",
        "    t_matrix = []\n",
        "    for j in range(n):\n",
        "      if i >= j:\n",
        "        t_matrix.append(1)\n",
        "      else:\n",
        "        t_matrix.append(0)\n",
        "    matrix.append(t_matrix)\n",
        "  return matrix"
      ],
      "metadata": {
        "id": "1WiQsF324ED4"
      },
      "execution_count": 148,
      "outputs": []
    },
    {
      "cell_type": "code",
      "source": [
        "matrix(5)"
      ],
      "metadata": {
        "colab": {
          "base_uri": "https://localhost:8080/"
        },
        "id": "5gQB4w1t7Fmx",
        "outputId": "442933ec-a36c-415e-fb0d-f8ab05ac18f7"
      },
      "execution_count": 149,
      "outputs": [
        {
          "output_type": "execute_result",
          "data": {
            "text/plain": [
              "[[1, 0, 0, 0, 0],\n",
              " [1, 1, 0, 0, 0],\n",
              " [1, 1, 1, 0, 0],\n",
              " [1, 1, 1, 1, 0],\n",
              " [1, 1, 1, 1, 1]]"
            ]
          },
          "metadata": {},
          "execution_count": 149
        }
      ]
    },
    {
      "cell_type": "code",
      "source": [
        "def matrix(n):\n",
        "  matrix = []\n",
        "  for i in range(n):\n",
        "    t_matrix = []\n",
        "    for j in range(n):\n",
        "      if i >= j and ((n // 2) + 1) > i:\n",
        "        t_matrix.append(1)\n",
        "      elif i >= j and n - i > j:\n",
        "        t_matrix.append(1)\n",
        "      else:\n",
        "        t_matrix.append(0)\n",
        "    matrix.append(t_matrix)\n",
        "  return matrix"
      ],
      "metadata": {
        "id": "LmVDGZM_93DZ"
      },
      "execution_count": 152,
      "outputs": []
    },
    {
      "cell_type": "code",
      "source": [
        "def matrix(n):\n",
        "    matrix = []\n",
        "    for i in range(n):\n",
        "        t_matrix = []\n",
        "        for j in range(n):\n",
        "            if i >= j and n - i - 1 >= j:\n",
        "              t_matrix.append(1)\n",
        "            else:\n",
        "                t_matrix.append(0)\n",
        "        matrix.append(t_matrix)\n",
        "    return matrix"
      ],
      "metadata": {
        "id": "99cB7vCX89bh"
      },
      "execution_count": 151,
      "outputs": []
    },
    {
      "cell_type": "code",
      "source": [
        "matrix(5)"
      ],
      "metadata": {
        "colab": {
          "base_uri": "https://localhost:8080/"
        },
        "id": "jP9XhRTb4iBX",
        "outputId": "b1cc4e7e-4064-4c17-d954-ef2d9f6a48ba"
      },
      "execution_count": 153,
      "outputs": [
        {
          "output_type": "execute_result",
          "data": {
            "text/plain": [
              "[[1, 0, 0, 0, 0],\n",
              " [1, 1, 0, 0, 0],\n",
              " [1, 1, 1, 0, 0],\n",
              " [1, 1, 0, 0, 0],\n",
              " [1, 0, 0, 0, 0]]"
            ]
          },
          "metadata": {},
          "execution_count": 153
        }
      ]
    },
    {
      "cell_type": "code",
      "source": [
        "def matrix(n):\n",
        "    matrix = []\n",
        "    for i in range(n):\n",
        "        t_matrix = []\n",
        "        for j in range(n):\n",
        "            if (i >= j and n - i - 1 >= j) or (n - i - 1 <= j and i <= j):\n",
        "              t_matrix.append(1)\n",
        "            else:\n",
        "                t_matrix.append(0)\n",
        "        matrix.append(t_matrix)\n",
        "    return matrix"
      ],
      "metadata": {
        "id": "4dT7-YH57KYH"
      },
      "execution_count": 130,
      "outputs": []
    },
    {
      "cell_type": "code",
      "source": [
        "matrix(5)"
      ],
      "metadata": {
        "colab": {
          "base_uri": "https://localhost:8080/"
        },
        "id": "JPidRLR97Lh2",
        "outputId": "eecdc95a-d6ac-40fb-8054-f2f8245dae9a"
      },
      "execution_count": 131,
      "outputs": [
        {
          "output_type": "execute_result",
          "data": {
            "text/plain": [
              "[[1, 0, 0, 0, 1],\n",
              " [1, 1, 0, 1, 1],\n",
              " [1, 1, 1, 1, 1],\n",
              " [1, 1, 0, 1, 1],\n",
              " [1, 0, 0, 0, 1]]"
            ]
          },
          "metadata": {},
          "execution_count": 131
        }
      ]
    }
  ]
}