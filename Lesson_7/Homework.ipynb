{
  "nbformat": 4,
  "nbformat_minor": 0,
  "metadata": {
    "colab": {
      "provenance": []
    },
    "kernelspec": {
      "name": "python3",
      "display_name": "Python 3"
    },
    "language_info": {
      "name": "python"
    }
  },
  "cells": [
    {
      "cell_type": "markdown",
      "source": [
        "**Задание 1:**\n",
        "\n",
        "Создать класс Money для работы с денежными суммами. Число должно\n",
        "быть представлено двумя полями: для рублей и для копеек. Копейки при\n",
        "выводе на экран должна быть отделена от целой части запятой.\n",
        "Реализовать сложение, вычитание, деление сумм, деление суммы на\n",
        "дробное число, умножение на дробное число и операции сравнения."
      ],
      "metadata": {
        "id": "S99XM8oGBbHi"
      }
    },
    {
      "cell_type": "code",
      "execution_count": 209,
      "metadata": {
        "id": "La_JNBeo-tVN"
      },
      "outputs": [],
      "source": [
        "class Money:\n",
        "\n",
        "  @classmethod\n",
        "  def __check_value(cls, x: int) -> bool:\n",
        "    if type(x) != int:\n",
        "      raise TypeError(\"Данные введены не правильно.\")\n",
        "\n",
        "  def __init__(self, rub: int = 0, kop: int = 0):\n",
        "    self.__check_value(rub)\n",
        "    self.__check_value(kop)\n",
        "    if kop >= 100 or kop < 0:\n",
        "      raise ValueError(\"Копейки должны быть в диапазоне от 0 до 99.\")\n",
        "    self.__rub, self.__kop = rub, kop\n",
        "    self.__summ = self.__rub * 100 + self.__kop\n",
        "\n",
        "  def __str__(self,) -> str:\n",
        "    return f\"{self.__rub},{self.__kop}\"\n",
        "\n",
        "  def __add__(self, other) -> object:\n",
        "    summ = self.__summ + other.__summ\n",
        "    return Money(int(summ // 100), int(summ % 100))\n",
        "\n",
        "  def __sub__(self, other) -> object:\n",
        "    summ = self.__summ - other.__summ\n",
        "    return Money(int(summ // 100), int(summ % 100))\n",
        "\n",
        "  def __truediv__(self, other) -> object:\n",
        "      if isinstance(other, Money):\n",
        "        if other.__summ == 0:\n",
        "          raise ZeroDivisionError(\"Деление на ноль невозможно.\")\n",
        "        summ = self.__summ / other.__summ\n",
        "\n",
        "      elif isinstance(other, (int, float)):\n",
        "        if other == 0:\n",
        "          raise ZeroDivisionError(\"Деление на ноль невозможно.\")\n",
        "        summ = (self.__summ/100) / other\n",
        "\n",
        "      return summ\n",
        "\n",
        "  def __mul__(self, other) -> object:\n",
        "    if isinstance(other, (int, float)):\n",
        "      summ = self.__summ * other\n",
        "    return Money(int(summ // 100), int(summ % 100))\n",
        "\n",
        "  def __lt__(self, other) -> bool:\n",
        "    return self.__summ < other.__summ\n",
        "\n",
        "  def __le__(self, other) -> bool:\n",
        "    return self.__summ <= other.__summ\n",
        "\n",
        "  def __eq__(self, other) -> bool:\n",
        "    return self.__summ == other.__summ\n",
        "\n",
        "  def __ne__(self, other) -> bool:\n",
        "    return self.__summ != other.__summ\n",
        "\n",
        "  def __gt__(self, other) -> bool:\n",
        "    return self.__summ > other.__summ\n",
        "\n",
        "  def __ge__(self, other) -> bool:\n",
        "    return self.__summ >= other.__summ\n",
        ""
      ]
    },
    {
      "cell_type": "code",
      "source": [
        "wallet_1 = Money(100, 25)\n",
        "print(wallet_1)"
      ],
      "metadata": {
        "colab": {
          "base_uri": "https://localhost:8080/"
        },
        "id": "AlqCQiR-CpXc",
        "outputId": "c9760aa3-c411-4ebc-d92a-fd0ba362bb88"
      },
      "execution_count": 210,
      "outputs": [
        {
          "output_type": "stream",
          "name": "stdout",
          "text": [
            "100,25\n"
          ]
        }
      ]
    },
    {
      "cell_type": "code",
      "source": [
        "wallet_2 = Money(150, 55)\n",
        "print(wallet_2)"
      ],
      "metadata": {
        "colab": {
          "base_uri": "https://localhost:8080/"
        },
        "id": "lyQTuHRKRu48",
        "outputId": "599b9854-eca2-41ea-811e-528896a88182"
      },
      "execution_count": 211,
      "outputs": [
        {
          "output_type": "stream",
          "name": "stdout",
          "text": [
            "150,55\n"
          ]
        }
      ]
    },
    {
      "cell_type": "code",
      "source": [
        "print(wallet_1 + wallet_2)"
      ],
      "metadata": {
        "colab": {
          "base_uri": "https://localhost:8080/"
        },
        "id": "K_Gm_ApRSF7s",
        "outputId": "4e72593d-4665-438e-c53c-eeac57003c0e"
      },
      "execution_count": 212,
      "outputs": [
        {
          "output_type": "stream",
          "name": "stdout",
          "text": [
            "250,80\n"
          ]
        }
      ]
    },
    {
      "cell_type": "code",
      "source": [
        "print(wallet_1 - wallet_2)"
      ],
      "metadata": {
        "colab": {
          "base_uri": "https://localhost:8080/"
        },
        "id": "Y5ivJiEXSxOz",
        "outputId": "f09eb14c-ae6b-4037-8a97-d4a64c0fc47c"
      },
      "execution_count": 213,
      "outputs": [
        {
          "output_type": "stream",
          "name": "stdout",
          "text": [
            "-51,70\n"
          ]
        }
      ]
    },
    {
      "cell_type": "code",
      "source": [
        "print(wallet_1 / wallet_2)"
      ],
      "metadata": {
        "colab": {
          "base_uri": "https://localhost:8080/"
        },
        "id": "YBZrE68gUbuy",
        "outputId": "cf1f99e3-b24e-4a59-96ac-e57b9880bf28"
      },
      "execution_count": 214,
      "outputs": [
        {
          "output_type": "stream",
          "name": "stdout",
          "text": [
            "0.6658917303221521\n"
          ]
        }
      ]
    },
    {
      "cell_type": "code",
      "source": [
        "print(wallet_1 / 2.5)"
      ],
      "metadata": {
        "colab": {
          "base_uri": "https://localhost:8080/"
        },
        "id": "6X23HaqeVLtk",
        "outputId": "bf49f04c-b667-4dc0-9988-d60727919120"
      },
      "execution_count": 215,
      "outputs": [
        {
          "output_type": "stream",
          "name": "stdout",
          "text": [
            "40.1\n"
          ]
        }
      ]
    },
    {
      "cell_type": "code",
      "source": [
        "print(wallet_1 * 2)"
      ],
      "metadata": {
        "colab": {
          "base_uri": "https://localhost:8080/"
        },
        "id": "rfeBJlL4XcIu",
        "outputId": "8dcf4c44-a869-4247-bb7e-71190549aa91"
      },
      "execution_count": 216,
      "outputs": [
        {
          "output_type": "stream",
          "name": "stdout",
          "text": [
            "200,50\n"
          ]
        }
      ]
    },
    {
      "cell_type": "code",
      "source": [
        "print(wallet_1 > wallet_2)\n"
      ],
      "metadata": {
        "colab": {
          "base_uri": "https://localhost:8080/"
        },
        "id": "IAUQmgdwX7H8",
        "outputId": "a639538e-d8e1-4660-94d0-795b898119be"
      },
      "execution_count": 217,
      "outputs": [
        {
          "output_type": "stream",
          "name": "stdout",
          "text": [
            "False\n"
          ]
        }
      ]
    },
    {
      "cell_type": "code",
      "source": [
        "print(wallet_1 == wallet_2)"
      ],
      "metadata": {
        "colab": {
          "base_uri": "https://localhost:8080/"
        },
        "id": "dtKyGgGoX9EF",
        "outputId": "1e3b8972-5242-4ff7-f801-97f163db3198"
      },
      "execution_count": 218,
      "outputs": [
        {
          "output_type": "stream",
          "name": "stdout",
          "text": [
            "False\n"
          ]
        }
      ]
    },
    {
      "cell_type": "markdown",
      "source": [
        "**Задание 2:**\n",
        "\n",
        "Создать класс матрица и реализовать алгоритмы математических\n",
        "операций над матрицами (сложение друг с другом, умножение на\n",
        "скалярную величину)."
      ],
      "metadata": {
        "id": "7PwqdmetBeWf"
      }
    },
    {
      "cell_type": "code",
      "source": [
        "class Matrix:\n",
        "\n",
        "  def __init__(self, matrx: list):\n",
        "    self.matrx = matrx\n",
        "    self.rows = len(matrx)\n",
        "    self.cols = len(matrx[0])\n",
        "\n",
        "  def __str__(self) -> str:\n",
        "    return '\\n'.join(str(line) for line in self.matrx)\n",
        "\n",
        "  def __add__(self, other) -> object:\n",
        "    if self.rows != other.rows or self.cols != other.cols:\n",
        "      raise ValueError(\"Матрицы не одинакового размера.\")\n",
        "\n",
        "    result = [\n",
        "        [self.matrx[r][c] + other.matrx[r][c] for c in range(self.cols)]\n",
        "        for r in range(self.rows)\n",
        "    ]\n",
        "    return Matrix(result)\n",
        "\n",
        "  def __mul__(self, other) -> object:\n",
        "    result = [\n",
        "        [self.matrx[r][c] * other for c in range(self.cols)]\n",
        "        for r in range(self.rows)\n",
        "    ]\n",
        "    return Matrix(result)\n",
        "\n"
      ],
      "metadata": {
        "id": "8Mn4NPuJ_B1v"
      },
      "execution_count": 308,
      "outputs": []
    },
    {
      "cell_type": "code",
      "source": [
        "matrx_1 = [[1,3,5,6],[2,3,4,5],[1,6,2,3],[7,1,2,4]]\n",
        "matrx_2 = [[5,2,1,3],[4,2,1,5],[5,3,2,3],[1,1,2,3]]\n"
      ],
      "metadata": {
        "id": "34YK7Hoybots"
      },
      "execution_count": 309,
      "outputs": []
    },
    {
      "cell_type": "code",
      "source": [
        "matrix_1 = Matrix(matrx_1)\n",
        "print(matrix_1)"
      ],
      "metadata": {
        "colab": {
          "base_uri": "https://localhost:8080/"
        },
        "id": "JrDuIhe8b3Ao",
        "outputId": "5d41db86-3058-4b1c-9e14-9520ac6c91f5"
      },
      "execution_count": 310,
      "outputs": [
        {
          "output_type": "stream",
          "name": "stdout",
          "text": [
            "[1, 3, 5, 6]\n",
            "[2, 3, 4, 5]\n",
            "[1, 6, 2, 3]\n",
            "[7, 1, 2, 4]\n"
          ]
        }
      ]
    },
    {
      "cell_type": "code",
      "source": [
        "matrix_2 = Matrix(matrx_2)\n",
        "print(matrix_2)"
      ],
      "metadata": {
        "colab": {
          "base_uri": "https://localhost:8080/"
        },
        "id": "yqLq4f6xeJ2r",
        "outputId": "48bde14d-5027-466b-eeee-e86761253ca9"
      },
      "execution_count": 311,
      "outputs": [
        {
          "output_type": "stream",
          "name": "stdout",
          "text": [
            "[5, 2, 1, 3]\n",
            "[4, 2, 1, 5]\n",
            "[5, 3, 2, 3]\n",
            "[1, 1, 2, 3]\n"
          ]
        }
      ]
    },
    {
      "cell_type": "code",
      "source": [
        "print(matrix_1 + matrix_2)"
      ],
      "metadata": {
        "colab": {
          "base_uri": "https://localhost:8080/"
        },
        "id": "jda7YGWdeSOj",
        "outputId": "4332bd84-e9fa-46de-a418-6decad230244"
      },
      "execution_count": 312,
      "outputs": [
        {
          "output_type": "stream",
          "name": "stdout",
          "text": [
            "[6, 5, 6, 9]\n",
            "[6, 5, 5, 10]\n",
            "[6, 9, 4, 6]\n",
            "[8, 2, 4, 7]\n"
          ]
        }
      ]
    },
    {
      "cell_type": "code",
      "source": [
        "print(matrix_1 * 2)"
      ],
      "metadata": {
        "colab": {
          "base_uri": "https://localhost:8080/"
        },
        "id": "exweE3sSew3j",
        "outputId": "77fc1e5b-84f2-433d-d349-63342abdf1ec"
      },
      "execution_count": 313,
      "outputs": [
        {
          "output_type": "stream",
          "name": "stdout",
          "text": [
            "[2, 6, 10, 12]\n",
            "[4, 6, 8, 10]\n",
            "[2, 12, 4, 6]\n",
            "[14, 2, 4, 8]\n"
          ]
        }
      ]
    },
    {
      "cell_type": "markdown",
      "source": [
        "**Задание 3:**\n",
        "\n",
        "Задание со звездочкой: необходимо реализовать набор операций над\n",
        "одномерными и двумерными структурами. Каждой структуре необходимо\n",
        "выделить свой класс. При описании классов использовать принципы\n",
        "ООП.\n"
      ],
      "metadata": {
        "id": "Cg3BkSVIBha9"
      }
    }
  ]
}