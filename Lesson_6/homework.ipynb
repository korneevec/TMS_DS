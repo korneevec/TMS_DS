{
  "nbformat": 4,
  "nbformat_minor": 0,
  "metadata": {
    "colab": {
      "provenance": []
    },
    "kernelspec": {
      "name": "python3",
      "display_name": "Python 3"
    },
    "language_info": {
      "name": "python"
    }
  },
  "cells": [
    {
      "cell_type": "markdown",
      "source": [
        "**Задание 1:**\n",
        "\n",
        "В этом небольшом задании вам дается строка чисел, разделенных пробелами,\n",
        "и вы должны вернуть наибольшее и наименьшее число.\n"
      ],
      "metadata": {
        "id": "nm5wn96EgPD-"
      }
    },
    {
      "cell_type": "code",
      "source": [
        "from functools import reduce\n",
        "\n",
        "\n",
        "def find_max_min(num_string: str) -> list:\n",
        "  int_list = list(map(int, num_string.split()))\n",
        "\n",
        "  max = 0\n",
        "  min = 0\n",
        "\n",
        "  for num in int_list:\n",
        "      if num > max:\n",
        "          max = num\n",
        "      if num < min:\n",
        "          min = num\n",
        "\n",
        "  return max, min\n",
        "\n"
      ],
      "metadata": {
        "id": "zoTnTpn8mv7w"
      },
      "execution_count": null,
      "outputs": []
    },
    {
      "cell_type": "code",
      "source": [
        "max, min = find_max_min(\"0 -12 1 3 4 7 9 10 14\")\n",
        "max, min"
      ],
      "metadata": {
        "colab": {
          "base_uri": "https://localhost:8080/"
        },
        "id": "f1Ev2tnLn4jj",
        "outputId": "250ed975-f976-46b6-a618-6befe00dbf3b"
      },
      "execution_count": null,
      "outputs": [
        {
          "output_type": "execute_result",
          "data": {
            "text/plain": [
              "(14, -12)"
            ]
          },
          "metadata": {},
          "execution_count": 64
        }
      ]
    },
    {
      "cell_type": "markdown",
      "source": [
        "**Задание 2:**\n",
        "\n",
        "Банкоматы допускают использование 4- или 6-значных PIN-кодов, а PIN-коды не\n",
        "могут содержать ничего, кроме ровно 4 или ровно 6 цифр. Если функции\n",
        "передана действительная строка PIN-кода, return true, иначе return false."
      ],
      "metadata": {
        "id": "juK0ZR40gSM5"
      }
    },
    {
      "cell_type": "code",
      "source": [
        "pin_codes = [\"4719483\",\"1432\",\"33\",\"587sd2f\",\"348141324\",\"-487167\"]"
      ],
      "metadata": {
        "id": "PeMwI3Umrixy"
      },
      "execution_count": null,
      "outputs": []
    },
    {
      "cell_type": "code",
      "source": [
        "def check_pin(pin: str) -> bool:\n",
        "  try:\n",
        "    pin = abs(int(pin))\n",
        "  except:\n",
        "    return False\n",
        "\n",
        "  pin = str(pin)\n",
        "  if len(pin) == 6 or len(pin) == 4:\n",
        "    return True\n",
        "\n",
        "  return False\n"
      ],
      "metadata": {
        "id": "q0a4a9CMrw-R"
      },
      "execution_count": null,
      "outputs": []
    },
    {
      "cell_type": "code",
      "source": [
        "for pin in pin_codes:\n",
        "  status = check_pin(pin)\n",
        "  print(f\"{pin}: {status}\")"
      ],
      "metadata": {
        "colab": {
          "base_uri": "https://localhost:8080/"
        },
        "id": "rurD0ZFwr5_6",
        "outputId": "15e58e48-e2a1-43d8-cfea-a95cd4728d0b"
      },
      "execution_count": null,
      "outputs": [
        {
          "output_type": "stream",
          "name": "stdout",
          "text": [
            "4719483: False\n",
            "1432: True\n",
            "33: False\n",
            "587sd2f: False\n",
            "348141324: False\n",
            "-487167: True\n"
          ]
        }
      ]
    },
    {
      "cell_type": "markdown",
      "source": [
        "**Задание 3:**\n",
        "\n",
        "Учитывая целое число, определите, является ли оно квадратным : В\n",
        "математике квадратное число или идеальный квадрат — это целое число,\n",
        "которое является квадратом целого числа; другими словами, это\n",
        "произведение некоторого целого числа само на себя. На вход список, на\n",
        "выходе список чисел"
      ],
      "metadata": {
        "id": "iDdrQNyIgTE5"
      }
    },
    {
      "cell_type": "code",
      "source": [
        "num_list = [13, 16, 54, 44, 32, 89, 123, -1]"
      ],
      "metadata": {
        "id": "gLysN_S_tPsY"
      },
      "execution_count": null,
      "outputs": []
    },
    {
      "cell_type": "code",
      "source": [
        "import math\n",
        "\n",
        "def check_root(num: int) -> bool:\n",
        "  if num < 0:\n",
        "    return False\n",
        "\n",
        "  root = int(math.sqrt(num))\n",
        "  if root * root == num:\n",
        "    return True\n",
        "  return False\n",
        "\n"
      ],
      "metadata": {
        "id": "E-wf7zpVtVIC"
      },
      "execution_count": null,
      "outputs": []
    },
    {
      "cell_type": "code",
      "source": [
        "num_list = list(filter(check_root, num_list))\n",
        "num_list"
      ],
      "metadata": {
        "colab": {
          "base_uri": "https://localhost:8080/"
        },
        "id": "fP43gJZEujgX",
        "outputId": "ecd0f00f-37e2-4dcc-b2bb-d00d555a87ba"
      },
      "execution_count": null,
      "outputs": [
        {
          "output_type": "execute_result",
          "data": {
            "text/plain": [
              "[16]"
            ]
          },
          "metadata": {},
          "execution_count": 62
        }
      ]
    },
    {
      "cell_type": "markdown",
      "source": [
        "**Задание 4:**\n",
        "\n",
        "Реализуйте функцию unique_in_order, которая принимает в качестве аргумента\n",
        "последовательность и возвращает список элементов без каких-либо элементов\n",
        "с одинаковым значением рядом друг с другом и сохраняет исходный порядок\n",
        "элементов."
      ],
      "metadata": {
        "id": "I83kTWj9gU6x"
      }
    },
    {
      "cell_type": "code",
      "source": [
        "def unique_in_order(seq: str) -> list:\n",
        "  list_el = []\n",
        "\n",
        "  t_element = \"\"\n",
        "  for x in seq:\n",
        "    if t_element != x:\n",
        "      list_el.append(x)\n",
        "      t_element = x\n",
        "\n",
        "  return list_el\n"
      ],
      "metadata": {
        "id": "hdgQ3mcdvaqj"
      },
      "execution_count": null,
      "outputs": []
    },
    {
      "cell_type": "code",
      "source": [
        "unique_in_order(\"DDDDJSAIFJWJJJFLA\")"
      ],
      "metadata": {
        "colab": {
          "base_uri": "https://localhost:8080/"
        },
        "id": "5gKyF2ySwLjc",
        "outputId": "012456e7-b343-44b9-9e5d-71191d12846d"
      },
      "execution_count": null,
      "outputs": [
        {
          "output_type": "execute_result",
          "data": {
            "text/plain": [
              "['D', 'J', 'S', 'A', 'I', 'F', 'J', 'W', 'J', 'F', 'L', 'A']"
            ]
          },
          "metadata": {},
          "execution_count": 66
        }
      ]
    },
    {
      "cell_type": "markdown",
      "source": [
        "**Задание 5:**\n",
        "\n",
        "Просто, учитывая строку слов, верните длину самого короткого слова (слов).\n",
        "Строка никогда не будет пустой, и вам не нужно учитывать разные типы данных."
      ],
      "metadata": {
        "id": "m2o7w7fagkUR"
      }
    },
    {
      "cell_type": "code",
      "source": [
        "def len_checker(s_string: str) -> int:\n",
        "  word_list = s_string.split()\n",
        "\n",
        "  t_length = len(word_list[0])\n",
        "  for word in word_list:\n",
        "    if len(word) < t_length:\n",
        "      t_length = len(word)\n",
        "\n",
        "  return t_length"
      ],
      "metadata": {
        "id": "RMuD9cPqwZ4T"
      },
      "execution_count": null,
      "outputs": []
    },
    {
      "cell_type": "code",
      "source": [
        "len_checker(\"Lorem Ipsum is simply dummy text of the printing and typesetting industry.\")"
      ],
      "metadata": {
        "colab": {
          "base_uri": "https://localhost:8080/"
        },
        "id": "sd54LVWOwsDA",
        "outputId": "62a32395-48dc-4531-842e-1ec759cacb21"
      },
      "execution_count": null,
      "outputs": [
        {
          "output_type": "execute_result",
          "data": {
            "text/plain": [
              "2"
            ]
          },
          "metadata": {},
          "execution_count": 81
        }
      ]
    },
    {
      "cell_type": "markdown",
      "source": [
        "**Задание 6:**\n",
        "\n",
        "Цифровой корень — это рекурсивная сумма всех цифр числа. Учитывая n,\n",
        "возьмите сумму цифр n. Если это значение имеет более одной цифры,\n",
        "продолжайте уменьшать таким образом, пока не получите однозначное число.\n",
        "Входные данные будут неотрицательным целым числом.\n"
      ],
      "metadata": {
        "id": "bbwObgKJgmWc"
      }
    },
    {
      "cell_type": "code",
      "source": [
        "def root(num: int) -> int:\n",
        "  if num < 10:\n",
        "    return num\n",
        "\n",
        "  sum = 0\n",
        "  for x in str(num):\n",
        "    sum += int(x)\n",
        "\n",
        "  return root(sum)"
      ],
      "metadata": {
        "id": "GIQFgfWA0lkT"
      },
      "execution_count": 150,
      "outputs": []
    },
    {
      "cell_type": "code",
      "source": [
        "root(16)"
      ],
      "metadata": {
        "id": "LJkzR9Yj2mJu",
        "colab": {
          "base_uri": "https://localhost:8080/"
        },
        "outputId": "dcffa2c6-1104-44ed-c597-6351679ce5a3"
      },
      "execution_count": 100,
      "outputs": [
        {
          "output_type": "execute_result",
          "data": {
            "text/plain": [
              "7"
            ]
          },
          "metadata": {},
          "execution_count": 100
        }
      ]
    },
    {
      "cell_type": "markdown",
      "source": [
        "**Задание 7:**\n",
        "\n",
        "Вам будет предоставлено слово. Ваша задача — вернуть средний символ\n",
        "слова. Если длина слова нечетная, верните средний символ. Если длина слова\n",
        "четная, верните 2 средних символа"
      ],
      "metadata": {
        "id": "vo53YmlEgYjr"
      }
    },
    {
      "cell_type": "code",
      "source": [
        "def get_middle(word: str) -> str:\n",
        "  if len(word) % 2 == 0:\n",
        "    return word[len(word) // 2 - 1: len(word) // 2 + 1]\n",
        "  else:\n",
        "    return word[len(word) // 2]\n",
        "\n"
      ],
      "metadata": {
        "id": "SBO3l51J3pOh"
      },
      "execution_count": 116,
      "outputs": []
    },
    {
      "cell_type": "code",
      "source": [
        "get_middle(\"Word\")"
      ],
      "metadata": {
        "colab": {
          "base_uri": "https://localhost:8080/",
          "height": 35
        },
        "id": "p5B7TZW739NH",
        "outputId": "ab340c10-14a7-44da-b7cc-2675c6473dcf"
      },
      "execution_count": 117,
      "outputs": [
        {
          "output_type": "execute_result",
          "data": {
            "text/plain": [
              "'or'"
            ],
            "application/vnd.google.colaboratory.intrinsic+json": {
              "type": "string"
            }
          },
          "metadata": {},
          "execution_count": 117
        }
      ]
    },
    {
      "cell_type": "markdown",
      "source": [
        "**Задание 8:**\n",
        "\n",
        "Определите функцию, которая принимает целочисленный аргумент и\n",
        "возвращает логическое значение trueили falseв зависимости от того, является\n",
        "ли целое число простым.\n"
      ],
      "metadata": {
        "id": "TqTX9jyxgZaG"
      }
    },
    {
      "cell_type": "code",
      "source": [
        "def check_num(num: int) -> bool:\n",
        "  if num < 1:\n",
        "    return False\n",
        "  elif num == 2:\n",
        "    return True\n",
        "\n",
        "  for i in range(2, num):\n",
        "    if num % i == 0:\n",
        "      return False\n",
        "\n",
        "  return True\n",
        ""
      ],
      "metadata": {
        "id": "_fTkpERc52tC"
      },
      "execution_count": 148,
      "outputs": []
    },
    {
      "cell_type": "code",
      "source": [
        "check_num(17)"
      ],
      "metadata": {
        "colab": {
          "base_uri": "https://localhost:8080/"
        },
        "id": "0QwIDkMG7UTJ",
        "outputId": "8f8e960c-a3ce-4aa7-88c1-056515c11d17"
      },
      "execution_count": 149,
      "outputs": [
        {
          "output_type": "execute_result",
          "data": {
            "text/plain": [
              "True"
            ]
          },
          "metadata": {},
          "execution_count": 149
        }
      ]
    },
    {
      "cell_type": "markdown",
      "source": [
        "**Задание 9:**\n",
        "\n",
        "Учитывая список целых чисел, определите, является ли сумма его элементов\n",
        "нечетной или четной."
      ],
      "metadata": {
        "id": "mHvW_aWngaLb"
      }
    },
    {
      "cell_type": "code",
      "source": [
        "def check_list(num_list: list) -> bool:\n",
        "  sum_num_list = sum(num_list)\n",
        "\n",
        "  if sum_num_list % 2 == 0:\n",
        "    return True\n",
        "\n",
        "  return False"
      ],
      "metadata": {
        "id": "jwQG-b-V7iMs"
      },
      "execution_count": 127,
      "outputs": []
    },
    {
      "cell_type": "code",
      "source": [
        "check_list([1,2,3,4,5])"
      ],
      "metadata": {
        "colab": {
          "base_uri": "https://localhost:8080/"
        },
        "id": "krTyFM5-75qA",
        "outputId": "7fbcc210-d985-4a25-9f7d-57eec541d54c"
      },
      "execution_count": 130,
      "outputs": [
        {
          "output_type": "execute_result",
          "data": {
            "text/plain": [
              "False"
            ]
          },
          "metadata": {},
          "execution_count": 130
        }
      ]
    },
    {
      "cell_type": "markdown",
      "source": [
        "**Задание 10:**"
      ],
      "metadata": {
        "id": "4byjzjYfL_-T"
      }
    },
    {
      "cell_type": "code",
      "source": [
        "def matrix(n):\n",
        "    matrix = []\n",
        "    for i in range(n):\n",
        "        t_matrix = []\n",
        "        for j in range(n):\n",
        "            if (i <= j and n - i - 1 >= j) or (i >= j and n - i - 1 <= j):\n",
        "                t_matrix.append(1)\n",
        "            else:\n",
        "                t_matrix.append(0)\n",
        "        matrix.append(t_matrix)\n",
        "    return matrix"
      ],
      "metadata": {
        "id": "cy_yG4JpMCHJ"
      },
      "execution_count": 159,
      "outputs": []
    },
    {
      "cell_type": "code",
      "source": [
        "n = matrix(5)\n",
        "n"
      ],
      "metadata": {
        "colab": {
          "base_uri": "https://localhost:8080/"
        },
        "id": "hC1zKrkrMFO_",
        "outputId": "8bc9fdaf-424b-4b5a-d833-348d4017e1be"
      },
      "execution_count": 166,
      "outputs": [
        {
          "output_type": "execute_result",
          "data": {
            "text/plain": [
              "[[1, 1, 1, 1, 1],\n",
              " [0, 1, 1, 1, 0],\n",
              " [0, 0, 1, 0, 0],\n",
              " [0, 1, 1, 1, 0],\n",
              " [1, 1, 1, 1, 1]]"
            ]
          },
          "metadata": {},
          "execution_count": 166
        }
      ]
    },
    {
      "cell_type": "code",
      "source": [
        "from functools import reduce\n",
        "\n",
        "def calculate_matrix(n):\n",
        "  sum = 0\n",
        "  for i in n:\n",
        "    sum += reduce(lambda x, y: x + y, filter(lambda x: x == 1, i))\n",
        "  return sum\n"
      ],
      "metadata": {
        "id": "4cwJcSSpMil7"
      },
      "execution_count": 167,
      "outputs": []
    },
    {
      "cell_type": "code",
      "source": [
        "sum = calculate_matrix(n)\n",
        "sum"
      ],
      "metadata": {
        "colab": {
          "base_uri": "https://localhost:8080/"
        },
        "id": "LfnsWDzvNCbT",
        "outputId": "841553af-4dbe-4494-9fcf-58fee784051d"
      },
      "execution_count": 168,
      "outputs": [
        {
          "output_type": "execute_result",
          "data": {
            "text/plain": [
              "17"
            ]
          },
          "metadata": {},
          "execution_count": 168
        }
      ]
    }
  ]
}