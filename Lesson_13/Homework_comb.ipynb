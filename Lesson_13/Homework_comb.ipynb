{
 "cells": [
  {
   "cell_type": "code",
   "execution_count": 8,
   "metadata": {},
   "outputs": [],
   "source": [
    "import math"
   ]
  },
  {
   "cell_type": "markdown",
   "metadata": {},
   "source": [
    "**Задание 1:**\n",
    "\n",
    "Из 1000 собранных на заводе телевизоров 5 штук бракованных.\n",
    "Эксперт проверяет один наугад выбранный телевизор из этой\n",
    "1000. Найдите вероятность того, что проверяемый телевизор\n",
    "окажется бракованным."
   ]
  },
  {
   "cell_type": "code",
   "execution_count": 4,
   "metadata": {},
   "outputs": [
    {
     "data": {
      "text/plain": [
       "0.005"
      ]
     },
     "execution_count": 4,
     "metadata": {},
     "output_type": "execute_result"
    }
   ],
   "source": [
    "5 / 1000"
   ]
  },
  {
   "cell_type": "markdown",
   "metadata": {},
   "source": [
    "**Задание 2:**\n",
    "\n",
    "В урне 9 красных, 6 жёлтых и 5 зелёных шаров. Из урны наугад\n",
    "достают один шар. Какова вероятность того, что этот шар\n",
    "окажется жёлтым? "
   ]
  },
  {
   "cell_type": "code",
   "execution_count": 5,
   "metadata": {},
   "outputs": [
    {
     "data": {
      "text/plain": [
       "0.3"
      ]
     },
     "execution_count": 5,
     "metadata": {},
     "output_type": "execute_result"
    }
   ],
   "source": [
    "6 / 20"
   ]
  },
  {
   "cell_type": "markdown",
   "metadata": {},
   "source": [
    "**Задание 3:**\n",
    "\n",
    "В чемпионате мира участвуют 16 команд. С помощью жребия\n",
    "их нужно разделить на четыре группы по четыре команды в\n",
    "каждой. В ящике вперемешку лежат карточки с номерами групп:\n",
    "1, 1, 1, 1, 2, 2, 2, 2, 3, 3, 3, 3, 4, 4, 4, 4. Капитаны команд тянут по\n",
    "одной карточке. Какова вероятность того, что команда\n",
    "Португалии окажется во второй группе?\n"
   ]
  },
  {
   "cell_type": "code",
   "execution_count": 6,
   "metadata": {},
   "outputs": [
    {
     "data": {
      "text/plain": [
       "0.25"
      ]
     },
     "execution_count": 6,
     "metadata": {},
     "output_type": "execute_result"
    }
   ],
   "source": [
    "4 / 16"
   ]
  },
  {
   "cell_type": "markdown",
   "metadata": {},
   "source": [
    "**Задание 4:**\n",
    "\n",
    "В группе туристов 8 человек. С помощью жребия они\n",
    "выбирают шестерых человек, которые должны идти в село в\n",
    "магазин за продуктами. Какова вероятность того, что турист Д.,\n",
    "входящий в состав группы, пойдёт в магазин?"
   ]
  },
  {
   "cell_type": "code",
   "execution_count": 7,
   "metadata": {},
   "outputs": [
    {
     "data": {
      "text/plain": [
       "0.75"
      ]
     },
     "execution_count": 7,
     "metadata": {},
     "output_type": "execute_result"
    }
   ],
   "source": [
    "6 / 8"
   ]
  },
  {
   "cell_type": "markdown",
   "metadata": {},
   "source": [
    "**Задание 5:**\n",
    "\n",
    "В чемпионате по футболу участвуют 16 команд, которые\n",
    "жеребьевкой распределяются на 4 группы: A, B, C и D. Какова\n",
    "вероятность того, что команда Англии не попадает в группу A?"
   ]
  },
  {
   "cell_type": "code",
   "execution_count": 13,
   "metadata": {},
   "outputs": [
    {
     "data": {
      "text/plain": [
       "0.75"
      ]
     },
     "execution_count": 13,
     "metadata": {},
     "output_type": "execute_result"
    }
   ],
   "source": [
    "3 / (16 / 4)"
   ]
  },
  {
   "cell_type": "markdown",
   "metadata": {},
   "source": [
    "**Задание 6:**\n",
    "\n",
    "В классе 21 учащийся, среди них две подруги - Аня и Нина.\n",
    "Класс случайным образом делят на семь групп, по 3 человека в\n",
    "каждой. Найдите вероятность того, что Аня и Нина окажутся в\n",
    "одной группе. "
   ]
  },
  {
   "cell_type": "code",
   "execution_count": 15,
   "metadata": {},
   "outputs": [
    {
     "data": {
      "text/plain": [
       "0.09523809523809523"
      ]
     },
     "execution_count": 15,
     "metadata": {},
     "output_type": "execute_result"
    }
   ],
   "source": [
    "2 / (7 * 3)"
   ]
  },
  {
   "cell_type": "markdown",
   "metadata": {},
   "source": [
    "**Задание 7:**\n",
    "\n",
    "Механические часы с двенадцатичасовым циферблатом в\n",
    "какой-то момент сломались и перестали идти. Найдите\n",
    "вероятность того, что часовая стрелка остановилась, достигнув\n",
    "отметки 7, но не дойдя до отметки 1. "
   ]
  },
  {
   "cell_type": "code",
   "execution_count": 17,
   "metadata": {},
   "outputs": [
    {
     "data": {
      "text/plain": [
       "0.5"
      ]
     },
     "execution_count": 17,
     "metadata": {},
     "output_type": "execute_result"
    }
   ],
   "source": [
    "6 / 12"
   ]
  },
  {
   "cell_type": "markdown",
   "metadata": {},
   "source": [
    "**Задание 8:**\n",
    "\n",
    "Механические часы с двенадцатичасовым циферблатом в\n",
    "какой-то момент сломались и перестали ходить. Найдите\n",
    "вероятность того, что часовая стрелка застыла, достигнув\n",
    "отметки 6, но не дойдя до отметки 9 часов."
   ]
  },
  {
   "cell_type": "code",
   "execution_count": 18,
   "metadata": {},
   "outputs": [
    {
     "data": {
      "text/plain": [
       "0.75"
      ]
     },
     "execution_count": 18,
     "metadata": {},
     "output_type": "execute_result"
    }
   ],
   "source": [
    "9 / 12"
   ]
  },
  {
   "cell_type": "markdown",
   "metadata": {},
   "source": [
    "**Задание 9:**\n",
    "\n",
    "В случайном эксперименте симметричную монету бросают 2\n",
    "раза. Найдите вероятность того, что орел выпадет ровно 1 раз."
   ]
  },
  {
   "cell_type": "code",
   "execution_count": 21,
   "metadata": {},
   "outputs": [
    {
     "data": {
      "text/plain": [
       "0.25"
      ]
     },
     "execution_count": 21,
     "metadata": {},
     "output_type": "execute_result"
    }
   ],
   "source": [
    "(1 / 2) * (1 / 2)"
   ]
  },
  {
   "cell_type": "markdown",
   "metadata": {},
   "source": [
    "**Задание 10:**\n",
    "\n",
    "В случайном эксперименте симметричную монету бросают\n",
    "дважды. Найдите вероятность того, что орёл не выпадет ни разу. "
   ]
  },
  {
   "cell_type": "code",
   "execution_count": 22,
   "metadata": {},
   "outputs": [
    {
     "data": {
      "text/plain": [
       "0.25"
      ]
     },
     "execution_count": 22,
     "metadata": {},
     "output_type": "execute_result"
    }
   ],
   "source": [
    "(1 / 2) * (1 / 2)"
   ]
  },
  {
   "cell_type": "markdown",
   "metadata": {},
   "source": [
    "**Задание 11:**\n",
    "\n",
    "Вероятность того, что новая шариковая ручка пишет плохо\n",
    "(или не пишет), равна 0,19. Покупатель в магазине выбирает одну\n",
    "такую ручку. Найдите вероятность того, что эта ручка пишет\n",
    "хорошо. "
   ]
  },
  {
   "cell_type": "code",
   "execution_count": 23,
   "metadata": {},
   "outputs": [
    {
     "data": {
      "text/plain": [
       "0.81"
      ]
     },
     "execution_count": 23,
     "metadata": {},
     "output_type": "execute_result"
    }
   ],
   "source": [
    "1 - 0.19"
   ]
  },
  {
   "cell_type": "markdown",
   "metadata": {},
   "source": [
    "**Задание 12:**\n",
    "\n",
    "При изготовлении подшипников диаметром 67 мм\n",
    "вероятность того, что диаметр будет отличаться от заданного не\n",
    "больше, чем на 0,01 мм, равна 0,965. Найдите вероятность того,\n",
    "что случайный подшипник будет иметь диаметр меньше чем\n",
    "66,99 мм или больше чем 67,01 мм."
   ]
  },
  {
   "cell_type": "code",
   "execution_count": 36,
   "metadata": {},
   "outputs": [
    {
     "data": {
      "text/plain": [
       "0.035"
      ]
     },
     "execution_count": 36,
     "metadata": {},
     "output_type": "execute_result"
    }
   ],
   "source": [
    "round(1 - 0.965, 3)"
   ]
  },
  {
   "cell_type": "markdown",
   "metadata": {},
   "source": [
    "**Задание 13:**\n",
    "\n",
    "На экзамене по геометрии школьнику достаётся одна задача из\n",
    "сборника. Вероятность того, что эта задача по теме «Углы», равна\n",
    "0,1. Вероятность того, что это окажется задача по теме\n",
    "«Параллелограмм», равна 0,6. В сборнике нет задач, которые\n",
    "одновременно относятся к этим двум темам. Найдите вероятность\n",
    "того, что на экзамене школьнику достанется задача по одной из\n",
    "этих двух тем."
   ]
  },
  {
   "cell_type": "code",
   "execution_count": 24,
   "metadata": {},
   "outputs": [
    {
     "data": {
      "text/plain": [
       "0.7"
      ]
     },
     "execution_count": 24,
     "metadata": {},
     "output_type": "execute_result"
    }
   ],
   "source": [
    "0.1 + 0.6"
   ]
  }
 ],
 "metadata": {
  "kernelspec": {
   "display_name": "Python 3",
   "language": "python",
   "name": "python3"
  },
  "language_info": {
   "codemirror_mode": {
    "name": "ipython",
    "version": 3
   },
   "file_extension": ".py",
   "mimetype": "text/x-python",
   "name": "python",
   "nbconvert_exporter": "python",
   "pygments_lexer": "ipython3",
   "version": "3.10.6"
  }
 },
 "nbformat": 4,
 "nbformat_minor": 2
}
