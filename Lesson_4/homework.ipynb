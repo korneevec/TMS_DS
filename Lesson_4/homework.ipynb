{
  "nbformat": 4,
  "nbformat_minor": 0,
  "metadata": {
    "colab": {
      "provenance": []
    },
    "kernelspec": {
      "name": "python3",
      "display_name": "Python 3"
    },
    "language_info": {
      "name": "python"
    }
  },
  "cells": [
    {
      "cell_type": "markdown",
      "source": [
        "**Задача 1**:\n",
        "\n",
        "Написать функцию, вычисляющее значение функции при х = 1.79\n",
        "![image.png](data:image/png;base64,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)"
      ],
      "metadata": {
        "id": "9qUAcKMpfwz7"
      }
    },
    {
      "cell_type": "code",
      "source": [
        "from math import cos, sin, e, log, sqrt, pi\n",
        "\n",
        "\n",
        "def func(x):\n",
        "    temp_1 = cos(e**x)\n",
        "    temp_2 = log(1 + x) ** 2\n",
        "    temp_3 = sqrt(e ** (cos(x)) + (sin(pi * x)) ** 2)\n",
        "    temp_4 = sqrt(1 / x)\n",
        "    temp_5 = cos(x**2)\n",
        "    result = (temp_1 + temp_2 + temp_3 + temp_4 + temp_5) ** sin(x)\n",
        "    return result\n",
        "\n",
        "x = 1.79\n",
        "func(x)"
      ],
      "metadata": {
        "colab": {
          "base_uri": "https://localhost:8080/"
        },
        "id": "B66dFTpbfqRl",
        "outputId": "442170bd-7257-4037-99e7-21e82561421f"
      },
      "execution_count": 407,
      "outputs": [
        {
          "output_type": "execute_result",
          "data": {
            "text/plain": [
              "2.775368323057839"
            ]
          },
          "metadata": {},
          "execution_count": 407
        }
      ]
    },
    {
      "cell_type": "markdown",
      "source": [
        "**Задача 2**:\n",
        "\n",
        "Напишите функцию search_substr(subst, st), которая принимает 2 строки и\n",
        "определяет, имеется ли подстрока subst в строке st. В случае нахождения\n",
        "подстроки, возвращается фраза «Есть контакт!», а иначе «Мимо!». Должно\n",
        "быть найдено совпадение независимо от регистра обеих строк."
      ],
      "metadata": {
        "id": "DdfCUnIdhEYi"
      }
    },
    {
      "cell_type": "code",
      "source": [
        "# Вариант 1\n",
        "\n",
        "def search_substr(subst, st):\n",
        "  subst_len = len(subst)\n",
        "  st_len = len(st)\n",
        "\n",
        "  st_lower = st.lower()\n",
        "  subst_lower = subst.lower()\n",
        "\n",
        "  for i in range(0,((st_len - subst_len) + 1)): # (st_len - subst_len) + 1) - это последнее вхождение строки subst в st\n",
        "    # print(st_lower[i])\n",
        "    # print(st_lower[i:i + subst_len])\n",
        "    if st_lower[i:i + subst_len] == subst_lower:\n",
        "      return \"Есть контакт!\"\n",
        "\n",
        "  return \"Мимо!\"\n",
        "\n",
        "\n",
        "st = \" Some text\"\n",
        "subst = \"some\"\n",
        "\n",
        "search_substr(subst,st)"
      ],
      "metadata": {
        "colab": {
          "base_uri": "https://localhost:8080/",
          "height": 35
        },
        "id": "ibyYiD9dlM9X",
        "outputId": "044e34e7-d485-487a-aa83-3b5914d59b77"
      },
      "execution_count": 424,
      "outputs": [
        {
          "output_type": "execute_result",
          "data": {
            "text/plain": [
              "'Есть контакт!'"
            ],
            "application/vnd.google.colaboratory.intrinsic+json": {
              "type": "string"
            }
          },
          "metadata": {},
          "execution_count": 424
        }
      ]
    },
    {
      "cell_type": "code",
      "source": [
        "# Вариант 2\n",
        "\n",
        "def search_substr(subst, st):\n",
        "  if subst.lower() in st.lower():\n",
        "    return \"Есть контакт!\"\n",
        "  return \"Мимо!\"\n",
        "\n",
        "\n",
        "search_substr(subst,st)"
      ],
      "metadata": {
        "colab": {
          "base_uri": "https://localhost:8080/",
          "height": 35
        },
        "id": "C97k4zEZphqE",
        "outputId": "4aa48285-017c-490d-d224-887a48bd2af6"
      },
      "execution_count": 425,
      "outputs": [
        {
          "output_type": "execute_result",
          "data": {
            "text/plain": [
              "'Есть контакт!'"
            ],
            "application/vnd.google.colaboratory.intrinsic+json": {
              "type": "string"
            }
          },
          "metadata": {},
          "execution_count": 425
        }
      ]
    },
    {
      "cell_type": "markdown",
      "source": [
        "**Задача 3**:\n",
        "\n",
        "На основании строки определить 3 наиболее часто встречаемых символа в\n",
        "ней. Пробелы нужно игнорировать (не учитывать при подсчете). Для простоты\n",
        "подсчета количества вхождений символов удобно использовать **Counter** из\n",
        "модуля **collections**.\n"
      ],
      "metadata": {
        "id": "gxAPtTCnhQCw"
      }
    },
    {
      "cell_type": "code",
      "source": [
        "# Вариант 1\n",
        "\n",
        "def symbol_counter(st):\n",
        "  symbols_list = []\n",
        "  symbols_dict = {}\n",
        "\n",
        "  a = 0\n",
        "  b = 0\n",
        "  c = 0\n",
        "\n",
        "  a_key = \"\"\n",
        "  b_key = \"\"\n",
        "  c_key = \"\"\n",
        "\n",
        "  for i in st:\n",
        "    if i != \" \":\n",
        "      symbols_list.append(i)\n",
        "\n",
        "  for symbol in symbols_list:\n",
        "    symbols_dict[symbol] = 0\n",
        "\n",
        "  for symbol in symbols_list:\n",
        "    symbols_dict[symbol] += 1\n",
        "\n",
        "  for index, (key, value) in enumerate(symbols_dict.items()):\n",
        "    if value > a:\n",
        "      b = a\n",
        "      b_key = a_key\n",
        "\n",
        "      a_key = key\n",
        "      a = value\n",
        "    elif value > b and value < a:\n",
        "      c = b\n",
        "      c_key = b_key\n",
        "\n",
        "      b_key = key\n",
        "      b = value\n",
        "    elif value > c and value < b:\n",
        "      c_key = key\n",
        "      c = value\n",
        "\n",
        "    print(f\"Index: {index}, Key: {key}, Value: {value}\")\n",
        "\n",
        "  print(a,b,c)\n",
        "  print(a_key,b_key,c_key)\n",
        "\n",
        "  print(len(symbols_dict))\n",
        "\n",
        "  print(f\"Больше всего {a_key}:{symbols_dict[a_key]}, затем идет {b_key}:{symbols_dict[b_key]}, затем идет {c_key}:{symbols_dict[c_key]}\")\n",
        "\n",
        "\n",
        "st = \"Lorem Ipsum is simply dummy text of the printing and typesetting industry.\"\n",
        "\n",
        "symbol_counter(st)"
      ],
      "metadata": {
        "colab": {
          "base_uri": "https://localhost:8080/"
        },
        "id": "QU0aKV10p0ZN",
        "outputId": "8a95d5ac-e529-4226-aecb-a767ef4e0dfc"
      },
      "execution_count": 410,
      "outputs": [
        {
          "output_type": "stream",
          "name": "stdout",
          "text": [
            "Index: 0, Key: L, Value: 1\n",
            "Index: 1, Key: o, Value: 2\n",
            "Index: 2, Key: r, Value: 3\n",
            "Index: 3, Key: e, Value: 5\n",
            "Index: 4, Key: m, Value: 5\n",
            "Index: 5, Key: I, Value: 1\n",
            "Index: 6, Key: p, Value: 4\n",
            "Index: 7, Key: s, Value: 5\n",
            "Index: 8, Key: u, Value: 3\n",
            "Index: 9, Key: i, Value: 6\n",
            "Index: 10, Key: l, Value: 1\n",
            "Index: 11, Key: y, Value: 4\n",
            "Index: 12, Key: d, Value: 3\n",
            "Index: 13, Key: t, Value: 8\n",
            "Index: 14, Key: x, Value: 1\n",
            "Index: 15, Key: f, Value: 1\n",
            "Index: 16, Key: h, Value: 1\n",
            "Index: 17, Key: n, Value: 5\n",
            "Index: 18, Key: g, Value: 2\n",
            "Index: 19, Key: a, Value: 1\n",
            "Index: 20, Key: ., Value: 1\n",
            "8 6 5\n",
            "t i n\n",
            "21\n",
            "Больше всего t:8, затем идет i:6, затем идет n:5\n"
          ]
        }
      ]
    },
    {
      "cell_type": "code",
      "source": [
        "# Вариант 2\n",
        "\n",
        "from collections import Counter\n",
        "\n",
        "def symbol_counter(st):\n",
        "  symbols_list = []\n",
        "\n",
        "  for i in st:\n",
        "    if i != \" \":\n",
        "      symbols_list.append(i)\n",
        "\n",
        "  cnt = Counter(symbols_list)\n",
        "  most_common = cnt.most_common(3)\n",
        "\n",
        "  a = most_common[0][1]\n",
        "  b = most_common[1][1]\n",
        "  c = most_common[2][1]\n",
        "\n",
        "  a_key = most_common[0][0]\n",
        "  b_key = most_common[1][0]\n",
        "  c_key = most_common[2][0]\n",
        "\n",
        "  print(f\"Больше всего встречается {a_key}:{a}, затем идет {b_key}:{b}, затем идет {c_key}:{c}\")\n",
        "\n",
        "\n",
        "st = \"Lorem Ipsum is simply dummy text of the printing and typesetting industry.\"\n",
        "\n",
        "symbol_counter(st)"
      ],
      "metadata": {
        "colab": {
          "base_uri": "https://localhost:8080/"
        },
        "id": "bKSzImlsxmk4",
        "outputId": "87cbeb5d-a25c-4aec-89d8-de5c985748b8"
      },
      "execution_count": 411,
      "outputs": [
        {
          "output_type": "stream",
          "name": "stdout",
          "text": [
            "Больше всего встречается t:8, затем идет i:6, затем идет e:5\n"
          ]
        }
      ]
    },
    {
      "cell_type": "markdown",
      "source": [
        "**Задача 4**:\n",
        "\n",
        "Дана строка в виде случайной последовательности чисел от 0 до 9. Требуется\n",
        "создать словарь, который в качестве ключей будет принимать данные числа (т.\n",
        "е. ключи будут типом int), а в качестве значений – количество этих чисел в\n",
        "имеющейся последовательности. Для построения словаря создайте функцию\n",
        "count_it(sequence), принимающую строку из цифр. Функция должна\n",
        "возвратить словарь из 3-х самых часто встречаемых чисел.\n"
      ],
      "metadata": {
        "id": "T2SxEDTVhTw_"
      }
    },
    {
      "cell_type": "code",
      "source": [
        "def count_it(sequence):\n",
        "  st_list = []\n",
        "  st_dict = {}\n",
        "\n",
        "  st_list = sequence.split(\" \")\n",
        "\n",
        "  for i in st_list:\n",
        "    st_dict[i] = 0\n",
        "\n",
        "  for i in st_list:\n",
        "    st_dict[i] += 1\n",
        "\n",
        "  cnt = Counter(st_list)\n",
        "  most_common = cnt.most_common(3)\n",
        "\n",
        "  a = most_common[0][1]\n",
        "  b = most_common[1][1]\n",
        "  c = most_common[2][1]\n",
        "\n",
        "  a_key = most_common[0][0]\n",
        "  b_key = most_common[1][0]\n",
        "  c_key = most_common[2][0]\n",
        "\n",
        "  print(f\"Больше всего встречается {a_key}:{a}, затем идет {b_key}:{b}, затем идет {c_key}:{c}\")\n",
        "\n",
        "\n",
        "st = \"3 5 1 5 7 8 9 7 9 9 72 3 5 2 13\"\n",
        "\n",
        "count_it(st)"
      ],
      "metadata": {
        "colab": {
          "base_uri": "https://localhost:8080/"
        },
        "id": "tzOetZ6_0__1",
        "outputId": "79a97fa2-1fd0-47c3-d945-5cbe0a8899f8"
      },
      "execution_count": 412,
      "outputs": [
        {
          "output_type": "stream",
          "name": "stdout",
          "text": [
            "Больше всего встречается 5:3, затем идет 9:3, затем идет 3:2\n"
          ]
        }
      ]
    },
    {
      "cell_type": "markdown",
      "source": [
        "**Задача 4**:\n",
        "\n",
        "Шахматы. у вас есть стандартное поле 8*8, после введения координат (a, b)\n",
        "нахождения вашей фигуры и фигуры соперника (с, d), необходимо получить\n",
        "ответ, угрожает ли вражеская фигура вам\n",
        "1.   вражеская фигура ферзь\n",
        "2.   вражеская фигура конь\n",
        "\n",
        "![image.png](data:image/png;base64,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)\n",
        "![image.png](data:image/png;base64,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)\n"
      ],
      "metadata": {
        "id": "y4AoSeRghipI"
      }
    },
    {
      "cell_type": "code",
      "source": [
        "# Вражеская фигура ферзь\n",
        "\n",
        "def calculate_move(a_b, c_d):\n",
        "    threat = False\n",
        "\n",
        "    field = []\n",
        "    for i in range(8):\n",
        "        row = [0] * 8\n",
        "        field.append(row)\n",
        "\n",
        "    for i in range(8):\n",
        "        if i != c_d[1] - 1:\n",
        "            field[-c_d[0]][i] = 2\n",
        "            if (-c_d[0], i) == (-a_b[0], a_b[1] - 1):\n",
        "                threat = True\n",
        "        if i != c_d[0] - 1:\n",
        "            field[-i - 1][c_d[1] - 1] = 2\n",
        "            if (-i - 1, c_d[1] - 1) == (-a_b[0], a_b[1] - 1):\n",
        "                threat = True\n",
        "\n",
        "    for i in range(1, 8):\n",
        "        if c_d[0] - i >= 1 and c_d[1] - i >= 1:\n",
        "          if (-(c_d[0] - i), c_d[1] - i - 1) == (-a_b[0], a_b[1] - 1):\n",
        "            threat = True\n",
        "          field[-(c_d[0] - i)][c_d[1] - i - 1] = 2\n",
        "        if c_d[0] - i >= 1 and c_d[1] + i <= 8:\n",
        "          if (-(c_d[0] - i), c_d[1] + i - 1) == (-a_b[0], a_b[1] - 1):\n",
        "            threat = True\n",
        "          field[-(c_d[0] - i)][c_d[1] + i - 1] = 2\n",
        "        if c_d[0] + i <= 8 and c_d[1] - i >= 1:\n",
        "          if (-(c_d[0] + i), c_d[1] - i - 1) == (-a_b[0], a_b[1] - 1):\n",
        "            threat = True\n",
        "          field[-(c_d[0] + i)][c_d[1] - i - 1] = 2\n",
        "        if c_d[0] + i <= 8 and c_d[1] + i <= 8:\n",
        "          if (-(c_d[0] + i), c_d[1] + i - 1) == (-a_b[0], a_b[1] - 1):\n",
        "            threat = True\n",
        "          field[-(c_d[0] + i)][c_d[1] + i - 1] = 2\n",
        "\n",
        "    field[-a_b[0]][a_b[1] - 1] = 1\n",
        "    field[-c_d[0]][c_d[1] - 1] = 4\n",
        "\n",
        "    for row in field:\n",
        "        print(row)\n",
        "\n",
        "    return threat\n",
        "\n",
        "threat_status = calculate_move((3, 3), (3, 7))\n",
        "print(f\"Вам угрожает соперник: {threat_status}\")\n"
      ],
      "metadata": {
        "colab": {
          "base_uri": "https://localhost:8080/"
        },
        "id": "a9JXNV6z3WGk",
        "outputId": "ceae202f-654a-4e33-cb1b-dabeb4c90b5e"
      },
      "execution_count": 418,
      "outputs": [
        {
          "output_type": "stream",
          "name": "stdout",
          "text": [
            "[0, 2, 0, 0, 0, 0, 2, 0]\n",
            "[0, 0, 2, 0, 0, 0, 2, 0]\n",
            "[0, 0, 0, 2, 0, 0, 2, 0]\n",
            "[0, 0, 0, 0, 2, 0, 2, 0]\n",
            "[0, 0, 0, 0, 0, 2, 2, 2]\n",
            "[2, 2, 1, 2, 2, 2, 4, 2]\n",
            "[0, 0, 0, 0, 0, 2, 2, 2]\n",
            "[0, 0, 0, 0, 2, 0, 2, 0]\n",
            "Вам угрожает соперник: True\n"
          ]
        }
      ]
    },
    {
      "cell_type": "code",
      "source": [
        "# Вражеская фигура конь\n",
        "\n",
        "def calculate_move(a_b, c_d):\n",
        "    threat = False\n",
        "\n",
        "    field = []\n",
        "    for i in range(8):\n",
        "        row = [0] * 8\n",
        "        field.append(row)\n",
        "\n",
        "    knight_moves = [\n",
        "        (2, 1), (2, -1), (-2, 1), (-2, -1),\n",
        "        (1, 2), (1, -2), (-1, 2), (-1, -2)\n",
        "    ]\n",
        "\n",
        "    for move in knight_moves:\n",
        "        new_row = c_d[0] + move[0]\n",
        "        new_col = c_d[1] + move[1]\n",
        "        if 1 <= new_row <= 8 and 1 <= new_col <= 8:\n",
        "            if (-new_row, new_col - 1) == (-a_b[0], a_b[1] - 1):\n",
        "                threat = True\n",
        "            field[-new_row][new_col - 1] = 2\n",
        "\n",
        "    field[-a_b[0]][a_b[1] - 1] = 1\n",
        "    field[-c_d[0]][c_d[1] - 1] = 4\n",
        "\n",
        "    for row in field:\n",
        "        print(row)\n",
        "\n",
        "    return threat_status\n",
        "\n",
        "status = calculate_move((3, 3), (3, 7))\n",
        "print(f\"Вам угрожает соперник: {threat_status}\")"
      ],
      "metadata": {
        "colab": {
          "base_uri": "https://localhost:8080/"
        },
        "id": "KJTkAT2nRJ_N",
        "outputId": "4edfb14a-a7a8-4b97-8262-70daaefd4b1d"
      },
      "execution_count": 419,
      "outputs": [
        {
          "output_type": "stream",
          "name": "stdout",
          "text": [
            "[0, 0, 0, 0, 0, 0, 0, 0]\n",
            "[0, 0, 0, 0, 0, 0, 0, 0]\n",
            "[0, 0, 0, 0, 0, 0, 0, 0]\n",
            "[0, 0, 0, 0, 0, 2, 0, 2]\n",
            "[0, 0, 0, 0, 2, 0, 0, 0]\n",
            "[0, 0, 1, 0, 0, 0, 4, 0]\n",
            "[0, 0, 0, 0, 2, 0, 0, 0]\n",
            "[0, 0, 0, 0, 0, 2, 0, 2]\n",
            "Вам угрожает соперник: True\n"
          ]
        }
      ]
    },
    {
      "cell_type": "markdown",
      "source": [
        "**Задача 5**:\n",
        "\n",
        "Шахматы. у вас есть стандартное поле 8*8, после введения координат (a, b)\n",
        "нахождения вашей фигуры конь и фигуры соперника (с, d). Необходимо определить,\n",
        "угрожаете ли вы сопернику, с учетом того, что у вас есть ход. (проверить состояние\n",
        "до и после хода, координаты хода рассчитывается автоматически, соперник стоит на\n",
        "месте)"
      ],
      "metadata": {
        "id": "GfiE622uhvw4"
      }
    },
    {
      "cell_type": "code",
      "source": [
        "def calculate_move(a_b, c_d):\n",
        "    threat = False\n",
        "    possible_moves = []\n",
        "\n",
        "    field = []\n",
        "    for i in range(8):\n",
        "        row = [0] * 8\n",
        "        field.append(row)\n",
        "\n",
        "    knight_moves = [\n",
        "        (2, 1), (2, -1), (-2, 1), (-2, -1),\n",
        "        (1, 2), (1, -2), (-1, 2), (-1, -2)\n",
        "    ]\n",
        "\n",
        "    for move in knight_moves:\n",
        "        new_row = a_b[0] + move[0]\n",
        "        new_col = a_b[1] + move[1]\n",
        "        if 1 <= new_row <= 8 and 1 <= new_col <= 8:\n",
        "            if (-new_row, new_col - 1) == (-c_d[0], c_d[1] - 1):\n",
        "                threat = True\n",
        "            possible_moves.append((new_row, new_col))\n",
        "            field[-new_row][new_col - 1] = 2\n",
        "\n",
        "    field[-a_b[0]][a_b[1] - 1] = 1\n",
        "    field[-c_d[0]][c_d[1] - 1] = 4\n",
        "\n",
        "    for row in field:\n",
        "        print(row)\n",
        "\n",
        "    return possible_moves, threat\n",
        "\n",
        "possible_moves, threat_status = calculate_move((3, 3), (3, 7))\n",
        "print(f\"Возможные ходы: {possible_moves}\")\n",
        "print(f\"Вы угрожаете сопернику: {threat_status}\")"
      ],
      "metadata": {
        "id": "0aA3WWifXC5r",
        "colab": {
          "base_uri": "https://localhost:8080/"
        },
        "outputId": "b1ba9f2d-fd92-4728-cd3c-9255b53a4e79"
      },
      "execution_count": 422,
      "outputs": [
        {
          "output_type": "stream",
          "name": "stdout",
          "text": [
            "[0, 0, 0, 0, 0, 0, 0, 0]\n",
            "[0, 0, 0, 0, 0, 0, 0, 0]\n",
            "[0, 0, 0, 0, 0, 0, 0, 0]\n",
            "[0, 2, 0, 2, 0, 0, 0, 0]\n",
            "[2, 0, 0, 0, 2, 0, 0, 0]\n",
            "[0, 0, 1, 0, 0, 0, 4, 0]\n",
            "[2, 0, 0, 0, 2, 0, 0, 0]\n",
            "[0, 2, 0, 2, 0, 0, 0, 0]\n",
            "Возможные ходы: [(5, 4), (5, 2), (1, 4), (1, 2), (4, 5), (4, 1), (2, 5), (2, 1)]\n",
            "Вы угрожаете сопернику: False\n"
          ]
        }
      ]
    },
    {
      "cell_type": "code",
      "source": [
        "possible_moves, threat_status = calculate_move((4, 5), (3, 7))\n",
        "print(f\"Возможные ходы: {possible_moves}\")\n",
        "print(f\"Вы угрожаете сопернику: {threat_status}\")"
      ],
      "metadata": {
        "colab": {
          "base_uri": "https://localhost:8080/"
        },
        "id": "qf4vXx-JZuxm",
        "outputId": "43d4b1a7-4308-428d-b40a-e0cd65844bc6"
      },
      "execution_count": 423,
      "outputs": [
        {
          "output_type": "stream",
          "name": "stdout",
          "text": [
            "[0, 0, 0, 0, 0, 0, 0, 0]\n",
            "[0, 0, 0, 0, 0, 0, 0, 0]\n",
            "[0, 0, 0, 2, 0, 2, 0, 0]\n",
            "[0, 0, 2, 0, 0, 0, 2, 0]\n",
            "[0, 0, 0, 0, 1, 0, 0, 0]\n",
            "[0, 0, 2, 0, 0, 0, 4, 0]\n",
            "[0, 0, 0, 2, 0, 2, 0, 0]\n",
            "[0, 0, 0, 0, 0, 0, 0, 0]\n",
            "Возможные ходы: [(6, 6), (6, 4), (2, 6), (2, 4), (5, 7), (5, 3), (3, 7), (3, 3)]\n",
            "Вы угрожаете сопернику: True\n"
          ]
        }
      ]
    }
  ]
}